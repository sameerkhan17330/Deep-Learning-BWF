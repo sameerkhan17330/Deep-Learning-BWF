{
 "cells": [
  {
   "cell_type": "code",
   "execution_count": null,
   "metadata": {},
   "outputs": [],
   "source": [
    "#                   ------------  Task 15  ----------\n",
    "#                            Handling missing data"
   ]
  },
  {
   "cell_type": "code",
   "execution_count": null,
   "metadata": {},
   "outputs": [],
   "source": [
    "import pandas as pd\n",
    "import numpy as np\n",
    "\n",
    "data_one = pd.Series(['alpha', 'beta', np.nan,'charlie'])\n",
    "print(data_one)\n",
    "print(data_one.isnull())\n"
   ]
  },
  {
   "cell_type": "code",
   "execution_count": null,
   "metadata": {},
   "outputs": [],
   "source": [
    "#         Filtering Out Missing Data\n",
    "\n",
    "from numpy import nan as NA\n",
    "data_two = pd.Series(['alpha', 'beta', NA,'charlie', NA])\n",
    "print(data_two)\n",
    "cleaned = data_two.dropna()\n",
    "print(cleaned)\n",
    "\n",
    "data_three = pd.DataFrame([['Ohio', NA, 'Ohio', 'Nevada', 'Nevada', 'Nevada'],[2000, NA, 2002, 2001, 2002, 2003],\n",
    "[1.5, NA, 3.6, 2.4, 2.9, 3.2]])\n",
    "frame = pd.DataFrame(data_three)\n",
    "print(data_three)\n",
    "clean = data_three.dropna()\n",
    "print(clean)\n"
   ]
  },
  {
   "cell_type": "code",
   "execution_count": null,
   "metadata": {},
   "outputs": [],
   "source": [
    "data = pd.DataFrame([[1., 6.5, NA], [1., NA, NA],\n",
    "[NA, NA, NA], [NA, NA, NA]])\n",
    "cleaned = data.dropna()\n",
    "print(data)\n",
    "print('\\n')\n",
    "print(cleaned)\n",
    "print('\\n')\n",
    "print(data.dropna(how='all'))\n",
    "print('\\n')\n",
    "print(data.dropna(axis=1, how='all'))"
   ]
  },
  {
   "cell_type": "code",
   "execution_count": null,
   "metadata": {},
   "outputs": [],
   "source": [
    "df = pd.DataFrame(np.random.randn(7, 3))\n",
    "df.iloc[:4, 1] = NA\n",
    "df.iloc[:2, 2] = NA\n",
    "print(df)\n",
    "print(df.dropna())\n",
    "print('\\n')\n",
    "print( df.dropna(thresh=2))"
   ]
  },
  {
   "cell_type": "code",
   "execution_count": null,
   "metadata": {},
   "outputs": [],
   "source": [
    "#             Filling In Missing Data\n",
    "\n",
    "df_2 = pd.DataFrame(np.random.randn(7, 3))\n",
    "df_2.iloc[:4, 1] = NA\n",
    "df_2.iloc[:2, 2] = NA\n",
    "print(df_2)\n",
    "print(df_2.fillna(0))\n",
    "df_2.fillna(0, inplace=True)\n",
    "print(df_2)\n",
    "df = pd.DataFrame(np.random.randn(6, 3))\n",
    "df_2.iloc[2:, 1] = NA\n",
    "df_2.iloc[4:, 2] = NA\n",
    "print(df_2)\n"
   ]
  },
  {
   "cell_type": "code",
   "execution_count": null,
   "metadata": {},
   "outputs": [],
   "source": [
    "df_2.fillna(method='ffill')\n",
    "df_2.fillna(method='ffill', limit=2)\n",
    "data = pd.Series([1., NA, 3.5, NA, 7])\n",
    "data =data.fillna(data.mean())\n",
    "print(data)"
   ]
  },
  {
   "cell_type": "code",
   "execution_count": null,
   "metadata": {},
   "outputs": [],
   "source": [
    "#                                Data Transformation\n",
    "#                               Removing Duplicates"
   ]
  },
  {
   "cell_type": "code",
   "execution_count": null,
   "metadata": {},
   "outputs": [],
   "source": [
    "data = pd.DataFrame({'k1': ['one', 'two'] * 3 + ['two'],\n",
    "'k2': [1, 1, 2, 3, 3, 4, 4]})\n",
    "print(data)\n",
    "print(data.duplicated())\n",
    "print(data.drop_duplicates())\n",
    "data['v1'] = range(7)\n",
    "\n"
   ]
  },
  {
   "cell_type": "code",
   "execution_count": null,
   "metadata": {},
   "outputs": [],
   "source": [
    "data = data.drop_duplicates(['k1'])\n",
    "print(data)\n",
    "label = data.drop_duplicates(['k1', 'k2'], keep='last')\n",
    "print('\\n')\n",
    "print(label)"
   ]
  },
  {
   "cell_type": "code",
   "execution_count": null,
   "metadata": {},
   "outputs": [],
   "source": [
    "#                Replacing Values\n",
    "\n",
    "data = pd.Series([1., -999., 2., -999., -1000., 3.])\n",
    "print(data)\n",
    "data = data.replace(-999, np.nan)\n",
    "print(data)\n",
    "data = data.replace([-999, -1000], np.nan)\n",
    "print(data)\n",
    "\n"
   ]
  },
  {
   "cell_type": "code",
   "execution_count": null,
   "metadata": {},
   "outputs": [],
   "source": [
    "data = data.replace([-999, -1000], [np.nan, 0])\n",
    "print(data)\n",
    "data= data.replace({-999: np.nan, -1000: 0})\n",
    "print(data)"
   ]
  },
  {
   "cell_type": "code",
   "execution_count": null,
   "metadata": {},
   "outputs": [],
   "source": []
  },
  {
   "cell_type": "code",
   "execution_count": null,
   "metadata": {},
   "outputs": [],
   "source": [
    "#            Detecting and Filtering Outliers\n",
    "\n",
    "data = pd.DataFrame(np.random.randn(1000, 4))\n",
    "print(data.describe())\n",
    "# find values in one of the columns exceeding 3 in absolute value:\n",
    "col = data[2]\n",
    "col = col[np.abs(col) > 3]\n",
    "print('\\n')\n",
    "print(col)\n",
    "\n",
    "#  To select all rows having a value exceeding 3 or –3, you can use the any method on a\n",
    "data = data[(np.abs(data) > 3).any(1)]\n",
    "print(data)\n",
    "\n",
    "#Values can be set based on these criteria. Here is code to cap values outside the interval –3 to 3:\n",
    "data= data[np.abs(data) > 3] = np.sign(data) * 3\n",
    "print(data.describe())\n",
    "\n",
    "#The statement np.sign(data) produces 1 and –1 values based on whether the valuesin data are positive or negative:\n",
    "np.sign(data).head()\n",
    "\n",
    "\n",
    "\n"
   ]
  },
  {
   "cell_type": "code",
   "execution_count": null,
   "metadata": {},
   "outputs": [],
   "source": [
    "#               Permutation and Random Sampling\n",
    "# Permuting (randomly reordering) a Series or the rows in a DataFrame is easy to do\n",
    "# using the numpy.random.permutation function. Calling permutation with the length\n",
    "# of the axis you want to permute produces an array of integers indicating the new ordering:\n",
    "df = pd.DataFrame(np.arange(5 * 4).reshape((5, 4)))\n",
    "sampler = np.random.permutation(5)\n",
    "print(sampler)\n",
    "#  That array can then be used in iloc-based indexing or the equivalent take function:\n",
    "print(df)\n",
    "print(df.take(sampler))\n",
    "# To select a random subset without replacement, you can use the sample method on Series and DataFrame:\n",
    "print(df.sample(n=3))\n",
    "# To generate a sample with replacement (to allow repeat choices), pass replace=True to sample:\n",
    "pd.Series([5, 7, -1, 6, 4])\n"
   ]
  }
 ],
 "metadata": {
  "kernelspec": {
   "display_name": "Python 3",
   "language": "python",
   "name": "python3"
  },
  "language_info": {
   "codemirror_mode": {
    "name": "ipython",
    "version": 3
   },
   "file_extension": ".py",
   "mimetype": "text/x-python",
   "name": "python",
   "nbconvert_exporter": "python",
   "pygments_lexer": "ipython3",
   "version": "3.10.2"
  },
  "orig_nbformat": 4
 },
 "nbformat": 4,
 "nbformat_minor": 2
}
