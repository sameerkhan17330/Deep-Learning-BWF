{
 "cells": [
  {
   "attachments": {},
   "cell_type": "markdown",
   "metadata": {},
   "source": [
    "Task 20\n",
    "Keras classification implementaation"
   ]
  },
  {
   "cell_type": "code",
   "execution_count": 1,
   "metadata": {},
   "outputs": [],
   "source": [
    "from keras.datasets import imdb\n",
    "import numpy as np\n",
    "from keras import models\n",
    "from keras import layers\n",
    "from keras import optimizers\n",
    "from keras import losses\n",
    "from keras import metrics\n"
   ]
  },
  {
   "cell_type": "code",
   "execution_count": 2,
   "metadata": {},
   "outputs": [
    {
     "name": "stdout",
     "output_type": "stream",
     "text": [
      "Downloading data from https://storage.googleapis.com/tensorflow/tf-keras-datasets/imdb.npz\n",
      "17464789/17464789 [==============================] - 3s 0us/step\n"
     ]
    }
   ],
   "source": [
    "# Loading the IMDB dataset\n",
    "(train_data, train_labels), (test_data, test_labels) = imdb.load_data(\n",
    "num_words=10000)"
   ]
  },
  {
   "cell_type": "code",
   "execution_count": 9,
   "metadata": {},
   "outputs": [],
   "source": [
    "# Encoding the integer sequences into a binary matrix\n",
    "def vectorize_sequences(sequences, dimension=10000):\n",
    "    results = np.zeros((len(sequences), dimension))\n",
    "    for i, sequence in enumerate(sequences):\n",
    "        results[i, sequence] = 1.\n",
    "    return results\n",
    "\n",
    "x_train = vectorize_sequences(train_data)\n",
    "x_test = vectorize_sequences(test_data)\n",
    "y_train = np.asarray(train_labels).astype('float32')\n",
    "y_test = np.asarray(test_labels).astype('float32')"
   ]
  },
  {
   "cell_type": "code",
   "execution_count": 4,
   "metadata": {},
   "outputs": [],
   "source": [
    "# The model definition\n",
    "\n",
    "model = models.Sequential()\n",
    "model.add(layers.Dense(16, activation='relu', input_shape=(10000,)))\n",
    "model.add(layers.Dense(16, activation='relu'))\n",
    "model.add(layers.Dense(1, activation='sigmoid'))"
   ]
  },
  {
   "cell_type": "code",
   "execution_count": 5,
   "metadata": {},
   "outputs": [],
   "source": [
    "# Compiling the model\n",
    "\n",
    "model.compile(optimizer='rmsprop',\n",
    "loss='binary_crossentropy',\n",
    "metrics=['accuracy'])"
   ]
  },
  {
   "cell_type": "code",
   "execution_count": 6,
   "metadata": {},
   "outputs": [
    {
     "name": "stderr",
     "output_type": "stream",
     "text": [
      "c:\\Users\\HP\\AppData\\Local\\Programs\\Python\\Python310\\lib\\site-packages\\keras\\optimizers\\legacy\\rmsprop.py:143: UserWarning: The `lr` argument is deprecated, use `learning_rate` instead.\n",
      "  super().__init__(name, **kwargs)\n"
     ]
    }
   ],
   "source": [
    "# Configuring the optimizer\n",
    "\n",
    "model.compile(optimizer=optimizers.RMSprop(lr=0.001),\n",
    "loss='binary_crossentropy',\n",
    "metrics=['accuracy'])"
   ]
  },
  {
   "cell_type": "code",
   "execution_count": 7,
   "metadata": {},
   "outputs": [],
   "source": [
    "# Using custom losses and metrics\n",
    "\n",
    "model.compile(optimizer=optimizers.RMSprop(lr=0.001),\n",
    "loss=losses.binary_crossentropy,\n",
    "metrics=[metrics.binary_accuracy])"
   ]
  },
  {
   "cell_type": "code",
   "execution_count": 10,
   "metadata": {},
   "outputs": [],
   "source": [
    "# Setting aside a validation set\n",
    "\n",
    "x_val = x_train[:10000]\n",
    "partial_x_train = x_train[10000:]\n",
    "y_val = y_train[:10000]\n",
    "partial_y_train = y_train[10000:]"
   ]
  },
  {
   "cell_type": "code",
   "execution_count": 11,
   "metadata": {},
   "outputs": [
    {
     "name": "stdout",
     "output_type": "stream",
     "text": [
      "Epoch 1/20\n",
      "30/30 [==============================] - 8s 189ms/step - loss: 0.6118 - acc: 0.6695 - val_loss: 0.5124 - val_acc: 0.8120\n",
      "Epoch 2/20\n",
      "30/30 [==============================] - 2s 60ms/step - loss: 0.4283 - acc: 0.8732 - val_loss: 0.3738 - val_acc: 0.8759\n",
      "Epoch 3/20\n",
      "30/30 [==============================] - 1s 33ms/step - loss: 0.3016 - acc: 0.9091 - val_loss: 0.3123 - val_acc: 0.8855\n",
      "Epoch 4/20\n",
      "30/30 [==============================] - 1s 29ms/step - loss: 0.2340 - acc: 0.9259 - val_loss: 0.2853 - val_acc: 0.8916\n",
      "Epoch 5/20\n",
      "30/30 [==============================] - 1s 29ms/step - loss: 0.1922 - acc: 0.9379 - val_loss: 0.2772 - val_acc: 0.8890\n",
      "Epoch 6/20\n",
      "30/30 [==============================] - 1s 33ms/step - loss: 0.1625 - acc: 0.9493 - val_loss: 0.2782 - val_acc: 0.8886\n",
      "Epoch 7/20\n",
      "30/30 [==============================] - 1s 30ms/step - loss: 0.1385 - acc: 0.9589 - val_loss: 0.2933 - val_acc: 0.8849\n",
      "Epoch 8/20\n",
      "30/30 [==============================] - 1s 32ms/step - loss: 0.1188 - acc: 0.9649 - val_loss: 0.3681 - val_acc: 0.8675\n",
      "Epoch 9/20\n",
      "30/30 [==============================] - 1s 29ms/step - loss: 0.1039 - acc: 0.9704 - val_loss: 0.3143 - val_acc: 0.8781\n",
      "Epoch 10/20\n",
      "30/30 [==============================] - 1s 30ms/step - loss: 0.0873 - acc: 0.9767 - val_loss: 0.3542 - val_acc: 0.8779\n",
      "Epoch 11/20\n",
      "30/30 [==============================] - 1s 34ms/step - loss: 0.0750 - acc: 0.9811 - val_loss: 0.3459 - val_acc: 0.8749\n",
      "Epoch 12/20\n",
      "30/30 [==============================] - 1s 30ms/step - loss: 0.0637 - acc: 0.9855 - val_loss: 0.3597 - val_acc: 0.8802\n",
      "Epoch 13/20\n",
      "30/30 [==============================] - 1s 34ms/step - loss: 0.0554 - acc: 0.9867 - val_loss: 0.3798 - val_acc: 0.8786\n",
      "Epoch 14/20\n",
      "30/30 [==============================] - 1s 36ms/step - loss: 0.0456 - acc: 0.9904 - val_loss: 0.3946 - val_acc: 0.8747\n",
      "Epoch 15/20\n",
      "30/30 [==============================] - 1s 30ms/step - loss: 0.0394 - acc: 0.9931 - val_loss: 0.4246 - val_acc: 0.8783\n",
      "Epoch 16/20\n",
      "30/30 [==============================] - 1s 32ms/step - loss: 0.0330 - acc: 0.9939 - val_loss: 0.4356 - val_acc: 0.8741\n",
      "Epoch 17/20\n",
      "30/30 [==============================] - 1s 31ms/step - loss: 0.0264 - acc: 0.9965 - val_loss: 0.4550 - val_acc: 0.8734\n",
      "Epoch 18/20\n",
      "30/30 [==============================] - 1s 30ms/step - loss: 0.0239 - acc: 0.9962 - val_loss: 0.4791 - val_acc: 0.8733\n",
      "Epoch 19/20\n",
      "30/30 [==============================] - 1s 40ms/step - loss: 0.0188 - acc: 0.9973 - val_loss: 0.5044 - val_acc: 0.8727\n",
      "Epoch 20/20\n",
      "30/30 [==============================] - 1s 39ms/step - loss: 0.0162 - acc: 0.9976 - val_loss: 0.5391 - val_acc: 0.8662\n"
     ]
    }
   ],
   "source": [
    "# Training your model\n",
    "\n",
    "model.compile(optimizer='rmsprop',\n",
    "loss='binary_crossentropy',\n",
    "metrics=['acc'])\n",
    "history = model.fit(partial_x_train,\n",
    "partial_y_train,\n",
    "epochs=20,\n",
    "batch_size=512,\n",
    "validation_data=(x_val, y_val))"
   ]
  },
  {
   "cell_type": "code",
   "execution_count": 14,
   "metadata": {},
   "outputs": [
    {
     "name": "stdout",
     "output_type": "stream",
     "text": [
      "Epoch 1/4\n",
      "49/49 [==============================] - 4s 32ms/step - loss: 0.5162 - accuracy: 0.7783\n",
      "Epoch 2/4\n",
      "49/49 [==============================] - 1s 28ms/step - loss: 0.3045 - accuracy: 0.8985\n",
      "Epoch 3/4\n",
      "49/49 [==============================] - 1s 24ms/step - loss: 0.2294 - accuracy: 0.9208\n",
      "Epoch 4/4\n",
      "49/49 [==============================] - 1s 27ms/step - loss: 0.1932 - accuracy: 0.9318\n",
      "782/782 [==============================] - 4s 4ms/step - loss: 0.2910 - accuracy: 0.8837\n"
     ]
    }
   ],
   "source": [
    "#  Retraining a model from scratch\n",
    "\n",
    "model = models.Sequential()\n",
    "model.add(layers.Dense(16, activation='relu', input_shape=(10000,)))\n",
    "model.add(layers.Dense(16, activation='relu'))\n",
    "model.add(layers.Dense(1, activation='sigmoid'))\n",
    "model.compile(optimizer='rmsprop',\n",
    "loss='binary_crossentropy',\n",
    "metrics=['accuracy'])\n",
    "\n",
    "model.fit(x_train, y_train, epochs=4, batch_size=512)\n",
    "results = model.evaluate(x_test, y_test)"
   ]
  }
 ],
 "metadata": {
  "kernelspec": {
   "display_name": "Python 3",
   "language": "python",
   "name": "python3"
  },
  "language_info": {
   "codemirror_mode": {
    "name": "ipython",
    "version": 3
   },
   "file_extension": ".py",
   "mimetype": "text/x-python",
   "name": "python",
   "nbconvert_exporter": "python",
   "pygments_lexer": "ipython3",
   "version": "3.10.2"
  },
  "orig_nbformat": 4
 },
 "nbformat": 4,
 "nbformat_minor": 2
}
