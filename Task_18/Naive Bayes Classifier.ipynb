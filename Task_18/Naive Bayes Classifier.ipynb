{
 "cells": [
  {
   "cell_type": "markdown",
   "metadata": {},
   "source": [
    "Task 18\n",
    "Naive Bayes Classifier"
   ]
  },
  {
   "cell_type": "code",
   "execution_count": 61,
   "metadata": {},
   "outputs": [],
   "source": [
    "import numpy as np\n",
    "from sklearn.naive_bayes import GaussianNB\n",
    "from sklearn.model_selection import train_test_split\n",
    "from sklearn.metrics import accuracy_score\n",
    "import pandas as pd\n",
    "from sklearn.naive_bayes import ComplementNB \n",
    "from sklearn.naive_bayes import MultinomialNB\n",
    "from sklearn.naive_bayes import BernoulliNB"
   ]
  },
  {
   "cell_type": "code",
   "execution_count": 62,
   "metadata": {},
   "outputs": [
    {
     "data": {
      "text/html": [
       "<div>\n",
       "<style scoped>\n",
       "    .dataframe tbody tr th:only-of-type {\n",
       "        vertical-align: middle;\n",
       "    }\n",
       "\n",
       "    .dataframe tbody tr th {\n",
       "        vertical-align: top;\n",
       "    }\n",
       "\n",
       "    .dataframe thead th {\n",
       "        text-align: right;\n",
       "    }\n",
       "</style>\n",
       "<table border=\"1\" class=\"dataframe\">\n",
       "  <thead>\n",
       "    <tr style=\"text-align: right;\">\n",
       "      <th></th>\n",
       "      <th>Age</th>\n",
       "      <th>Sex</th>\n",
       "      <th>Chest Pain Location</th>\n",
       "      <th>Blood Pressure</th>\n",
       "      <th>Cholestoral</th>\n",
       "      <th>Fasting Blood Sugar</th>\n",
       "      <th>ResTecg</th>\n",
       "      <th>Thalach</th>\n",
       "      <th>Exang</th>\n",
       "      <th>OldPeak</th>\n",
       "      <th>Diagnosis Heart Disease</th>\n",
       "    </tr>\n",
       "  </thead>\n",
       "  <tbody>\n",
       "    <tr>\n",
       "      <th>0</th>\n",
       "      <td>40</td>\n",
       "      <td>1</td>\n",
       "      <td>2</td>\n",
       "      <td>140</td>\n",
       "      <td>289</td>\n",
       "      <td>0</td>\n",
       "      <td>0</td>\n",
       "      <td>172</td>\n",
       "      <td>0</td>\n",
       "      <td>0.0</td>\n",
       "      <td>0</td>\n",
       "    </tr>\n",
       "    <tr>\n",
       "      <th>1</th>\n",
       "      <td>49</td>\n",
       "      <td>0</td>\n",
       "      <td>3</td>\n",
       "      <td>160</td>\n",
       "      <td>180</td>\n",
       "      <td>0</td>\n",
       "      <td>0</td>\n",
       "      <td>156</td>\n",
       "      <td>0</td>\n",
       "      <td>1.0</td>\n",
       "      <td>1</td>\n",
       "    </tr>\n",
       "    <tr>\n",
       "      <th>2</th>\n",
       "      <td>37</td>\n",
       "      <td>1</td>\n",
       "      <td>2</td>\n",
       "      <td>130</td>\n",
       "      <td>283</td>\n",
       "      <td>0</td>\n",
       "      <td>1</td>\n",
       "      <td>98</td>\n",
       "      <td>0</td>\n",
       "      <td>0.0</td>\n",
       "      <td>0</td>\n",
       "    </tr>\n",
       "    <tr>\n",
       "      <th>3</th>\n",
       "      <td>48</td>\n",
       "      <td>0</td>\n",
       "      <td>4</td>\n",
       "      <td>138</td>\n",
       "      <td>214</td>\n",
       "      <td>0</td>\n",
       "      <td>0</td>\n",
       "      <td>108</td>\n",
       "      <td>1</td>\n",
       "      <td>1.5</td>\n",
       "      <td>3</td>\n",
       "    </tr>\n",
       "    <tr>\n",
       "      <th>4</th>\n",
       "      <td>54</td>\n",
       "      <td>1</td>\n",
       "      <td>3</td>\n",
       "      <td>150</td>\n",
       "      <td>6</td>\n",
       "      <td>0</td>\n",
       "      <td>0</td>\n",
       "      <td>122</td>\n",
       "      <td>0</td>\n",
       "      <td>0.0</td>\n",
       "      <td>0</td>\n",
       "    </tr>\n",
       "  </tbody>\n",
       "</table>\n",
       "</div>"
      ],
      "text/plain": [
       "   Age  Sex  Chest Pain Location  Blood Pressure  Cholestoral  \\\n",
       "0   40    1                    2             140          289   \n",
       "1   49    0                    3             160          180   \n",
       "2   37    1                    2             130          283   \n",
       "3   48    0                    4             138          214   \n",
       "4   54    1                    3             150            6   \n",
       "\n",
       "   Fasting Blood Sugar  ResTecg  Thalach   Exang  OldPeak  \\\n",
       "0                    0        0      172       0      0.0   \n",
       "1                    0        0      156       0      1.0   \n",
       "2                    0        1       98       0      0.0   \n",
       "3                    0        0      108       1      1.5   \n",
       "4                    0        0      122       0      0.0   \n",
       "\n",
       "   Diagnosis Heart Disease  \n",
       "0                        0  \n",
       "1                        1  \n",
       "2                        0  \n",
       "3                        3  \n",
       "4                        0  "
      ]
     },
     "execution_count": 62,
     "metadata": {},
     "output_type": "execute_result"
    }
   ],
   "source": [
    "dataset=pd.read_csv('DATASET.csv',names=['Age','Sex','Chest Pain Location','Blood Pressure','Cholestoral','Fasting Blood Sugar','ResTecg','Thalach',' Exang','OldPeak','Diagnosis Heart Disease'])\n",
    "dataset.head()"
   ]
  },
  {
   "cell_type": "code",
   "execution_count": 63,
   "metadata": {},
   "outputs": [],
   "source": [
    "# splitting the dataset\n",
    "#  test_size=0.2 20% data is given to testing while 80% to training\n",
    "\n",
    "x = dataset.iloc[:,0:-1]\n",
    "y = dataset.iloc[: , -1]\n",
    "x_train , x_test, y_train, y_test = train_test_split(x,y ,random_state=40, test_size=0.2)"
   ]
  },
  {
   "cell_type": "code",
   "execution_count": 64,
   "metadata": {},
   "outputs": [],
   "source": [
    "# Train the Guassian Model\n",
    "model = GaussianNB()\n",
    "fittedModel = model.fit(x_train, y_train)"
   ]
  },
  {
   "cell_type": "code",
   "execution_count": 65,
   "metadata": {},
   "outputs": [
    {
     "data": {
      "text/plain": [
       "array([4, 0, 2, 0, 4, 0, 2, 2, 1, 0, 0, 2, 4, 4, 3, 0, 4, 0, 2, 2, 0, 0,\n",
       "       4, 0, 0, 2, 2, 0, 0, 2, 1, 2, 4, 2, 0, 4, 2, 0, 2, 2, 2, 0, 0, 2,\n",
       "       2, 0, 0, 1, 0, 0, 0, 0, 2, 2, 0, 0, 2, 2, 0], dtype=int64)"
      ]
     },
     "execution_count": 65,
     "metadata": {},
     "output_type": "execute_result"
    }
   ],
   "source": [
    "y_gnb = model.predict(x_test)\n",
    "y_gnb"
   ]
  },
  {
   "cell_type": "code",
   "execution_count": 66,
   "metadata": {},
   "outputs": [
    {
     "name": "stdout",
     "output_type": "stream",
     "text": [
      "0.4745762711864407\n"
     ]
    }
   ],
   "source": [
    "print(accuracy_score(y_test,y_gnb))"
   ]
  },
  {
   "cell_type": "code",
   "execution_count": 67,
   "metadata": {},
   "outputs": [
    {
     "data": {
      "text/plain": [
       "array([2, 0, 1, 0, 2, 0, 3, 3, 0, 2, 1, 0, 0, 2, 3, 0, 2, 0, 0, 0, 1, 2,\n",
       "       2, 0, 2, 0, 2, 1, 1, 2, 1, 3, 3, 0, 0, 3, 0, 0, 1, 0, 1, 0, 2, 3,\n",
       "       2, 0, 0, 1, 1, 0, 1, 0, 2, 0, 0, 0, 1, 0, 0], dtype=int64)"
      ]
     },
     "execution_count": 67,
     "metadata": {},
     "output_type": "execute_result"
    }
   ],
   "source": [
    "# Train the ComplementNB Model\n",
    "model2 = ComplementNB()\n",
    "fittedModel = model2.fit(x_train, y_train)\n",
    "y_cnb = model2.predict(x_test)\n",
    "y_cnb\n"
   ]
  },
  {
   "cell_type": "code",
   "execution_count": 68,
   "metadata": {},
   "outputs": [
    {
     "name": "stdout",
     "output_type": "stream",
     "text": [
      "0.423728813559322\n"
     ]
    }
   ],
   "source": [
    "print(accuracy_score(y_test,y_cnb))"
   ]
  },
  {
   "cell_type": "code",
   "execution_count": 69,
   "metadata": {},
   "outputs": [
    {
     "data": {
      "text/plain": [
       "array([4, 0, 1, 0, 0, 0, 3, 3, 0, 4, 1, 0, 0, 4, 3, 1, 1, 0, 0, 0, 4, 2,\n",
       "       4, 0, 0, 0, 2, 1, 1, 3, 1, 3, 3, 0, 0, 3, 0, 0, 4, 0, 4, 0, 2, 3,\n",
       "       2, 0, 0, 4, 1, 0, 1, 1, 2, 0, 0, 0, 4, 1, 0], dtype=int64)"
      ]
     },
     "execution_count": 69,
     "metadata": {},
     "output_type": "execute_result"
    }
   ],
   "source": [
    "# Train the Multinomial Model\n",
    "model3 = MultinomialNB()\n",
    "fittedModel = model3.fit(x_train, y_train)\n",
    "y_mnb = model3.predict(x_test)\n",
    "y_mnb\n"
   ]
  },
  {
   "cell_type": "code",
   "execution_count": 70,
   "metadata": {},
   "outputs": [
    {
     "name": "stdout",
     "output_type": "stream",
     "text": [
      "0.5084745762711864\n"
     ]
    }
   ],
   "source": [
    "print(accuracy_score(y_test,y_mnb))"
   ]
  },
  {
   "cell_type": "code",
   "execution_count": 71,
   "metadata": {},
   "outputs": [
    {
     "data": {
      "text/plain": [
       "array([2, 0, 0, 0, 1, 0, 3, 0, 0, 0, 0, 2, 1, 3, 2, 0, 2, 0, 2, 0, 0, 0,\n",
       "       3, 0, 0, 0, 0, 0, 0, 2, 0, 3, 1, 0, 0, 2, 2, 0, 0, 2, 0, 0, 0, 0,\n",
       "       2, 0, 0, 0, 0, 0, 0, 0, 2, 0, 0, 0, 2, 0, 0], dtype=int64)"
      ]
     },
     "execution_count": 71,
     "metadata": {},
     "output_type": "execute_result"
    }
   ],
   "source": [
    "# Train the BernoulliNB Model\n",
    "model4 = BernoulliNB()\n",
    "fittedModel = model4.fit(x_train, y_train)\n",
    "y_bnb = model4.predict(x_test)\n",
    "y_bnb\n"
   ]
  },
  {
   "cell_type": "code",
   "execution_count": 72,
   "metadata": {},
   "outputs": [
    {
     "name": "stdout",
     "output_type": "stream",
     "text": [
      "0.6271186440677966\n"
     ]
    }
   ],
   "source": [
    "print(accuracy_score(y_test,y_bnb))"
   ]
  }
 ],
 "metadata": {
  "kernelspec": {
   "display_name": "Python 3",
   "language": "python",
   "name": "python3"
  },
  "language_info": {
   "codemirror_mode": {
    "name": "ipython",
    "version": 3
   },
   "file_extension": ".py",
   "mimetype": "text/x-python",
   "name": "python",
   "nbconvert_exporter": "python",
   "pygments_lexer": "ipython3",
   "version": "3.10.2"
  },
  "orig_nbformat": 4
 },
 "nbformat": 4,
 "nbformat_minor": 2
}
