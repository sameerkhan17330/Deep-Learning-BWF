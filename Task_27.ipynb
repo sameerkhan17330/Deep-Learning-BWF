{
 "cells": [
  {
   "attachments": {},
   "cell_type": "markdown",
   "metadata": {},
   "source": [
    "Task 27"
   ]
  },
  {
   "attachments": {},
   "cell_type": "markdown",
   "metadata": {},
   "source": [
    "ANN ModEl\n",
    "\n"
   ]
  },
  {
   "cell_type": "code",
   "execution_count": 9,
   "metadata": {},
   "outputs": [],
   "source": [
    "import tensorflow as tf\n",
    "from tensorflow import keras\n",
    "from keras import layers"
   ]
  },
  {
   "cell_type": "code",
   "execution_count": 3,
   "metadata": {},
   "outputs": [],
   "source": [
    "# Load the MNIST dataset\n",
    "(X_train, y_train), (X_test, y_test) = keras.datasets.mnist.load_data()"
   ]
  },
  {
   "cell_type": "code",
   "execution_count": 4,
   "metadata": {},
   "outputs": [],
   "source": [
    "# Preprocess the data\n",
    "X_train = X_train.reshape(-1, 28*28).astype(\"float32\") / 255.0\n",
    "X_test = X_test.reshape(-1, 28*28).astype(\"float32\") / 255.0\n",
    "y_train = keras.utils.to_categorical(y_train)\n",
    "y_test = keras.utils.to_categorical(y_test)"
   ]
  },
  {
   "cell_type": "code",
   "execution_count": 5,
   "metadata": {},
   "outputs": [],
   "source": [
    "# Define the ANN model\n",
    "model = keras.Sequential([\n",
    "    layers.Dense(64, activation='relu', input_shape=(784,)),\n",
    "    layers.Dense(32, activation='relu'),\n",
    "    layers.Dense(10, activation='softmax')\n",
    "])\n"
   ]
  },
  {
   "cell_type": "code",
   "execution_count": 6,
   "metadata": {},
   "outputs": [],
   "source": [
    "# Compile the model\n",
    "model.compile(optimizer='adam', loss='categorical_crossentropy', metrics=['accuracy'])"
   ]
  },
  {
   "cell_type": "code",
   "execution_count": 1,
   "metadata": {},
   "outputs": [
    {
     "name": "stdout",
     "output_type": "stream",
     "text": [
      "Epoch 1/10\n",
      "1500/1500 [==============================] - 6s 3ms/step - loss: 0.3229 - accuracy: 0.9057 - val_loss: 0.1675 - val_accuracy: 0.9525\n",
      "Epoch 2/10\n",
      "1500/1500 [==============================] - 5s 3ms/step - loss: 0.1457 - accuracy: 0.9575 - val_loss: 0.1269 - val_accuracy: 0.9618\n",
      "Epoch 3/10\n",
      "1500/1500 [==============================] - 5s 3ms/step - loss: 0.1086 - accuracy: 0.9668 - val_loss: 0.1172 - val_accuracy: 0.9653\n",
      "Epoch 4/10\n",
      "1500/1500 [==============================] - 5s 3ms/step - loss: 0.0854 - accuracy: 0.9743 - val_loss: 0.1189 - val_accuracy: 0.9657\n",
      "Epoch 5/10\n",
      "1500/1500 [==============================] - 5s 3ms/step - loss: 0.0705 - accuracy: 0.9783 - val_loss: 0.1100 - val_accuracy: 0.9678\n",
      "Epoch 6/10\n",
      "1500/1500 [==============================] - 5s 3ms/step - loss: 0.0596 - accuracy: 0.9812 - val_loss: 0.1113 - val_accuracy: 0.9689\n",
      "Epoch 7/10\n",
      "1500/1500 [==============================] - 5s 3ms/step - loss: 0.0488 - accuracy: 0.9840 - val_loss: 0.1044 - val_accuracy: 0.9704\n",
      "Epoch 8/10\n",
      "1500/1500 [==============================] - 5s 3ms/step - loss: 0.0432 - accuracy: 0.9860 - val_loss: 0.1156 - val_accuracy: 0.9697\n",
      "Epoch 9/10\n",
      "1500/1500 [==============================] - 4s 3ms/step - loss: 0.0371 - accuracy: 0.9878 - val_loss: 0.1204 - val_accuracy: 0.9706\n",
      "Epoch 10/10\n",
      "1500/1500 [==============================] - 4s 3ms/step - loss: 0.0313 - accuracy: 0.9898 - val_loss: 0.1110 - val_accuracy: 0.9722\n",
      "313/313 [==============================] - 1s 2ms/step - loss: 0.0890 - accuracy: 0.9757\n",
      "Test Loss: 0.0890\n",
      "Test Accuracy: 0.9757\n"
     ]
    }
   ],
   "source": [
    "# Train the model\n",
    "model.fit(X_train, y_train, batch_size=32, epochs=10, validation_split=0.2)\n"
   ]
  },
  {
   "cell_type": "code",
   "execution_count": 8,
   "metadata": {},
   "outputs": [
    {
     "name": "stdout",
     "output_type": "stream",
     "text": [
      "313/313 [==============================] - 1s 2ms/step - loss: 0.1270 - accuracy: 0.9610\n",
      "Test Loss: 0.1270\n",
      "Test Accuracy: 0.9610\n"
     ]
    }
   ],
   "source": [
    "\n",
    "# Evaluate the model\n",
    "loss, accuracy = model.evaluate(X_test, y_test)\n",
    "print(f\"Test Loss: {loss:.4f}\")\n",
    "print(f\"Test Accuracy: {accuracy:.4f}\")"
   ]
  }
 ],
 "metadata": {
  "kernelspec": {
   "display_name": "Python 3",
   "language": "python",
   "name": "python3"
  },
  "language_info": {
   "codemirror_mode": {
    "name": "ipython",
    "version": 3
   },
   "file_extension": ".py",
   "mimetype": "text/x-python",
   "name": "python",
   "nbconvert_exporter": "python",
   "pygments_lexer": "ipython3",
   "version": "3.10.2"
  },
  "orig_nbformat": 4
 },
 "nbformat": 4,
 "nbformat_minor": 2
}
