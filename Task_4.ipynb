{
  "nbformat": 4,
  "nbformat_minor": 0,
  "metadata": {
    "colab": {
      "provenance": [],
      "authorship_tag": "ABX9TyPNd2K0Z/SUGdABdAoWtun/",
      "include_colab_link": true
    },
    "kernelspec": {
      "name": "python3",
      "display_name": "Python 3"
    },
    "language_info": {
      "name": "python"
    },
    "accelerator": "GPU",
    "gpuClass": "standard"
  },
  "cells": [
    {
      "cell_type": "markdown",
      "metadata": {
        "id": "view-in-github",
        "colab_type": "text"
      },
      "source": [
        "<a href=\"https://colab.research.google.com/github/sameerkhan17330/Deep-Learning-BWF/blob/main/Task_4.ipynb\" target=\"_parent\"><img src=\"https://colab.research.google.com/assets/colab-badge.svg\" alt=\"Open In Colab\"/></a>"
      ]
    },
    {
      "cell_type": "code", 
      "execution_count": null,
      "metadata": {
        "id": "OVy63vsSbzcW"
      },
      "outputs": [],
      "source": [
        "#                                                      ------------------ CH  3 -------------------- \n",
        "#                                                              INTRODUCING LISTS"
      ]
    },
    {
      "cell_type": "code",
      "source": [
        "#3.1:Store the names of a few of your friends in a list called names. Print each person’s name\n",
        "\n",
        "names = ['Ahmad', 'Haroon', 'Adnan']\n",
        "print(names[0])\n",
        "print(names[1])\n",
        "print(names[2]+\"\\n\\n\")\n",
        "\n",
        "#3.2:Start with the list you used in Exercise 3-1, but instead of just printing each person’s name, print a message to them\n",
        "\n",
        "print(names[0]+ \" is a close friend\")\n",
        "print(names[1]+ \" is a close friend\")\n",
        "print(names[2]+ \" is a close friend \\n\\n\")\n",
        "\n",
        "#3.3:Think of your favorite mode of transportation, such as a motorcycle or a car, and make a list that stores several examples.\n",
        "\n",
        "transport = ['YBR', 'lamborghini', 'Mountain_Bike']\n",
        "print(\"I would like to own a {}.\".format(transport[0]))\n",
        "print(\"{} is one of my favourite cars.\".format(transport[1]))\n",
        "print(\"I really want to use {} to perform my dialy tasks. \\n\\n\".format(transport[2]))"
      ],
      "metadata": {
        "id": "KtI9ekCcGPxx"
      },
      "execution_count": null,
      "outputs": []
    },
    {
      "cell_type": "code",
      "source": [
        "# 3.4:Make a list that includes at least three people you’d like to invite to dinner.\n",
        "\n",
        "dinner_list = ['aslam', 'shahnoor', 'Amir']\n",
        "print(\"We have a party in the house tonight. Mr.{}, You are invited to dinner.\".format(dinner_list[0]))\n",
        "print(\"We have a party in the house tonight. Mr.{}, You are invited to dinner.\".format(dinner_list[1]))\n",
        "print(\"We have a party in the house tonight. Mr.{}, You are invited to dinner. \\n\\n\".format(dinner_list[2]))\n",
        "\n",
        "#3.5:You just heard that one of your guests can’t make the dinner, so you need to send out a new set of invitations. \n",
        "# You’ll have to think of someone else to invite\n",
        "\n",
        "print(\"Mr.{} couldn't make it to the dinner.\".format(dinner_list[2]))\n",
        "dinner_list[2] = 'Haroon'\n",
        "for names in dinner_list:\n",
        "  print(\"We have a party in the house tonight. Mr.{}, You are invited to dinner.\".format(names))\n",
        "#3.6:You just found a bigger dinner table, so now more space is available. Think of three more guests to invite to dinner\n",
        "\n",
        "print(\"\\n\\n We have found bigger list, so we are inviting more guests on dinner.\")\n",
        "dinner_list.insert(3,'Huzaifi')\n",
        "dinner_list.insert(4,'Kaifi')\n",
        "dinner_list.append('Saad')\n",
        "\n",
        "for names in dinner_list:\n",
        "  print(\"We have a party in the house tonight. Mr.{}, You are invited to dinner.\".format(names))\n",
        "\n",
        "#3.7:You just found out that your new dinner table won’t arrive in time for the dinner, and you have space for only two guests.\n",
        "\n",
        "print(\"\\n\\nwe can invite only two people for dinner.\")\n",
        "dinner_list.pop()\n",
        "print(\"We are sorry but your invitation for dinner is cancelled.\")\n",
        "dinner_list.pop()\n",
        "print(\"We are sorry but your invitation for dinner is cancelled.\")\n",
        "dinner_list.pop()\n",
        "print(\"We are sorry but your invitation for dinner is cancelled.\")\n",
        "dinner_list.pop()\n",
        "print(\"We are sorry but your invitation for dinner is cancelled.\\n\\n\")\n",
        "del dinner_list[0]\n",
        "del dinner_list[0]\n",
        "\n",
        "print(dinner_list)\n",
        "\n"
      ],
      "metadata": {
        "id": "mCCBTmegfV_3"
      },
      "execution_count": null,
      "outputs": []
    },
    {
      "cell_type": "code",
      "source": [
        "#3.8:Think of at least five places in the world you’d like to visit\n",
        "\n",
        "location_list = ['Switzerland', 'Spain', 'Finland', 'Maldeves', 'New_york']\n",
        "print(location_list)\n",
        "print(sorted(location_list))\n",
        "print(location_list)\n",
        "print(sorted(location_list, reverse = True))\n",
        "print(location_list)\n",
        "location_list.reverse()\n",
        "print(location_list)\n",
        "location_list.reverse()\n",
        "print(location_list)\n",
        "location_list.sort()\n",
        "print(location_list)\n",
        "location_list.sort(reverse = True)\n",
        "\n",
        "#3.9:use len() to print a message indicating the number of people you are inviting to dinner\n",
        "\n",
        "\n",
        "dinner_list = ['aslam', 'shahnoor', 'Amir']\n",
        "length = len(dinner_list)\n",
        "print(\"\\n\\nThe length is \"+ str(length))"
      ],
      "metadata": {
        "id": "1o3UL8QypteI"
      },
      "execution_count": null,
      "outputs": []
    },
    {
      "cell_type": "code",
      "source": [
        "#            --------------------------- ch 4 --------------------------------------\n",
        "\n",
        "#                             WORKING ON LISTS"
      ],
      "metadata": {
        "id": "sodsXwgGvp2Y"
      },
      "execution_count": null,
      "outputs": []
    },
    {
      "cell_type": "code",
      "source": [
        "#4.1:Think of at least three kinds of your favorite pizza. Store these  pizza names in a list, and then use a for loop to print the name of each pizza.\n",
        "\n",
        "pizza_names = ['waldo', 'ortolana', 'sbanco']\n",
        "for names in pizza_names:\n",
        "  print(names)\n",
        "for names in pizza_names:\n",
        "  print(\"I like {}\".format(names))\n",
        "print(\"\\n\\n\")\n",
        "#4.2:Think of at least three different animals that have a common char\u0002acteristic. Store the names of these animals in a list,\n",
        "# and then use a for loop to print out the name of each animal\n",
        "\n",
        "animal_names = ['lion', 'tiger', 'wolf']\n",
        "for names in animal_names:\n",
        "  print(names)\n",
        "for names in animal_names:\n",
        "  print(\"{} is very dangerous\".format(names))\n"
      ],
      "metadata": {
        "id": "awnNOaUnwAiX"
      },
      "execution_count": null,
      "outputs": []
    },
    {
      "cell_type": "code",
      "source": [],
      "metadata": {
        "id": "l8eD9qLbc7Ep"
      },
      "execution_count": null,
      "outputs": []
    },
    {
      "cell_type": "code",
      "source": [
        "#4.3:Use a for loop to print the numbers from 1 to 20, inclusive\n",
        "\n",
        "for i in range(1,21):\n",
        "  print(i)\n",
        "print(\"\\n\\n\")\n",
        "\n",
        "#4.4:Make a list of the numbers from one to one million, and then use a for loop to print the numbers\n",
        "million_list = []\n",
        "for i in range(1,100001):\n",
        "  million_list.append(i)\n",
        "for num in million_list:\n",
        "  print(num)"
      ],
      "metadata": {
        "id": "sBvwQxn5zDQ9"
      },
      "execution_count": null,
      "outputs": []
    },
    {
      "cell_type": "code",
      "source": [
        "#4.5:use min() and max() to make sure your list actually starts at one and ends at one million. Also, use the sum() function to see how quickly Python can add a million numbers.\n",
        "\n",
        "print(min(million_list))\n",
        "print(max(million_list))\n",
        "print(sum(million_list))\n",
        "print(\"\\n\\n\")\n",
        "\n",
        "#4.6:Use the third argument of the range() function to make a list of the odd numbers from 1 to 20. Use a for loop to print each number.\n",
        "\n",
        "list = []\n",
        "for num in range(1,20,2):\n",
        "  list.append(num)\n",
        "  print(num)\n",
        "print(\"\\n\\n\")\n",
        "\n",
        "#4.7: Make a list of the multiples of 3 from 3 to 30. Use a for loop to print the numbers in your list\n",
        "\n",
        "list_2 = []\n",
        "for num in range(3,31,3):\n",
        "  list_2.append(num)\n",
        "  print(num)\n",
        "print(\"\\n\\n\")\n",
        "\n",
        "#4.8:A number raised to the third power is called a cube. For example, the cube of 2 is written as 2**3 in Python. Make a list of the first 10 cubes \n",
        "\n",
        "list_3 = []\n",
        "for num in range(1,11):\n",
        "  list.append(num**3)\n",
        "  print(num**3)\n",
        "print(\"\\n\\n\")\n",
        "\n",
        "#             4.9    Q: Use a list comprehension to generate a list of the first 10 cubes.\n",
        "list_4 = [num**3 for num in range(1,11)]\n",
        "print(list_4)\n",
        "\n",
        "\n",
        "  "
      ],
      "metadata": {
        "id": "GwbsHC8s0yiC"
      },
      "execution_count": null,
      "outputs": []
    },
    {
      "cell_type": "code",
      "source": [
        "#4.10:Using one of the programs you wrote in this chapter, add several lines to the end of the program that do the following:\n",
        "\n",
        "#print(\"The first three items in the list are: {}\".format(list_4[:3]))\n",
        "#print(\"Three items from the middle of the list are: {}\".format(list_4[4:7]))\n",
        "#print(\"The last three items in the list are: {}\".format(list_4[-3:]))\n",
        "print(\"\\n\\n\")\n",
        "\n",
        "# 4.11:Start with your program from Exercise 4-1 . Make a copy of the list of pizzas, and call it friend_pizzas. Then, do the following\n",
        "\n",
        "pizza_names = [\"pizza1\",\"pizza2\",\"pizza3\"]\n",
        "friend_pizza= pizza_names[:]\n",
        "pizza_names.insert(0,'aaaaaaaaaaa')\n",
        "friend_pizza.insert(0,'kkkkkkkkk')\n",
        "print(friend_pizza)\n",
        "print(pizza_names)\n",
        "print(\"My favourite pizza are:\")\n",
        "for pizza in pizza_names:\n",
        "  print(pizza)\n",
        "print(\"My friend's favourite pizza are:\")\n",
        "for piz in friend_pizza:\n",
        "  print(piz)\n",
        "print(\"\\n\\n\")\n",
        "\n",
        "# 4.12 :A buffet-style restaurant offers only five basic foods. Think of five simple foods, and store them in a tuple\n",
        "\n",
        "food_list = ('biscuit', 'apple', 'banana', 'bonefire', 'sweet')\n",
        "for food in food_list:\n",
        "  print(food)\n",
        "\n",
        "food_list = ('pineapple', 'apple', 'banana', 'bonefire', 'sweet')\n",
        "print(food_list)\n"
      ],
      "metadata": {
        "id": "66FFm9iX4h6h"
      },
      "execution_count": null,
      "outputs": []
    }
  ]
}
