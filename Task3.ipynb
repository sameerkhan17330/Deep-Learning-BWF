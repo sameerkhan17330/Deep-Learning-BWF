{
  "nbformat": 4,
  "nbformat_minor": 0,
  "metadata": {
    "colab": {
      "provenance": [],
      "authorship_tag": "ABX9TyMZfAXMgKaYI9+YcGlDcod6",
      "include_colab_link": true
    },
    "kernelspec": {
      "name": "python3",
      "display_name": "Python 3"
    },
    "language_info": {
      "name": "python"
    }
  },
  "cells": [
    {
      "cell_type": "markdown",
      "metadata": {
        "id": "view-in-github",
        "colab_type": "text"
      },
      "source": [
        "<a href=\"https://colab.research.google.com/github/sameerkhan17330/Deep-Learning-BWF/blob/main/Task3.ipynb\" target=\"_parent\"><img src=\"https://colab.research.google.com/assets/colab-badge.svg\" alt=\"Open In Colab\"/></a>"
      ]
    },
    {
      "cell_type": "code",
      "execution_count": 1,
      "metadata": {
        "colab": {
          "base_uri": "https://localhost:8080/"
        },
        "id": "g4xKB2uV2cMu",
        "outputId": "d587ba52-ce2c-41bf-bc7e-23e7e863aad9"
      },
      "outputs": [
        {
          "output_type": "stream",
          "name": "stdout",
          "text": [
            "hello word\n"
          ]
        }
      ],
      "source": [
        "MESSAGE = \"hello word\"\n",
        "print(MESSAGE)"
      ]
    },
    {
      "cell_type": "code",
      "source": [
        "name = \"Sameer Zaffar\"\n",
        "print(name.title())"
      ],
      "metadata": {
        "colab": {
          "base_uri": "https://localhost:8080/"
        },
        "id": "BivtVP784W0L",
        "outputId": "e7c776f4-0008-4344-946c-d11ad9ebb706"
      },
      "execution_count": 2,
      "outputs": [
        {
          "output_type": "stream",
          "name": "stdout",
          "text": [
            "Sameer Zaffar\n"
          ]
        }
      ]
    },
    {
      "cell_type": "code",
      "source": [
        "print(name.upper())\n",
        "print(name.lower())"
      ],
      "metadata": {
        "colab": {
          "base_uri": "https://localhost:8080/"
        },
        "id": "db_LcndS4iZ_",
        "outputId": "db844d86-81b0-4462-d03e-e1a2798686df"
      },
      "execution_count": 3,
      "outputs": [
        {
          "output_type": "stream",
          "name": "stdout",
          "text": [
            "SAMEER ZAFFAR\n",
            "sameer zaffar\n"
          ]
        }
      ]
    },
    {
      "cell_type": "code",
      "source": [
        "one = \"sameer\"\n",
        "two = \"zaffar\"\n",
        "print(\"my 1st name is {} and last name is {}\".format(one,two))"
      ],
      "metadata": {
        "colab": {
          "base_uri": "https://localhost:8080/"
        },
        "id": "W8BwLv7P4stQ",
        "outputId": "9abc3fd0-97d8-470b-c340-7f91ca9e51fe"
      },
      "execution_count": 4,
      "outputs": [
        {
          "output_type": "stream",
          "name": "stdout",
          "text": [
            "my 1st name is sameer and last name is zaffar\n"
          ]
        }
      ]
    }
  ]
}