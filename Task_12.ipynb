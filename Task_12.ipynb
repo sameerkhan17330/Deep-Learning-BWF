{
 "cells": [
  {
   "cell_type": "code",
   "execution_count": 2,
   "metadata": {},
   "outputs": [],
   "source": [
    "# ------------------------------ Broadcasting In Arrays --------------------------------# \n",
    "\n",
    "import numpy as np"
   ]
  },
  {
   "cell_type": "code",
   "execution_count": null,
   "metadata": {},
   "outputs": [],
   "source": [
    "a = np.array([1.0, 2.0, 3.0])\n",
    "b = np.array([2.0, 2.0, 2.0])\n",
    "print(a * b)\n",
    "\n",
    "a = np.array([1.0, 2.0, 3.0])\n",
    "b = 2.0\n",
    "print(a * b)"
   ]
  },
  {
   "cell_type": "code",
   "execution_count": null,
   "metadata": {},
   "outputs": [],
   "source": [
    "#  Two dimensions are compatible when\n",
    "# 1) they are equal, or\n",
    "# 2) one of them is 1.\n",
    "#  It starts with the trailing (i.e. rightmost) dimension and works its way left. \n",
    "\n",
    "#  EXAMPLE:     \n",
    "\n",
    "a = np.array([[ 0.0,  0.0,  0.0],\n",
    "              [10.0, 10.0, 10.0],\n",
    "              [20.0, 20.0, 20.0],\n",
    "              [30.0, 30.0, 30.0]])\n",
    "b = np.array([1.0, 2.0, 3.0])\n",
    "print(a * b)\n",
    "\n",
    "# it will generate broadcasting error\n",
    "\n",
    "b = np.array([1.0, 2.0, 3.0, 4.0])\n",
    "print(a * b)"
   ]
  },
  {
   "cell_type": "code",
   "execution_count": null,
   "metadata": {},
   "outputs": [],
   "source": [
    "X_broad =np.ones((3,3), dtype=int)\n",
    "print (X_broad)\n",
    "Y_broad = np.arange(3)\n",
    "print (Y_broad)\n",
    "Z_broad = X_broad + Y_broad\n",
    "print (Z_broad)\n",
    "X_board = np.arange(9).reshape(1,9)\n",
    "print(X_board)"
   ]
  },
  {
   "cell_type": "code",
   "execution_count": null,
   "metadata": {},
   "outputs": [],
   "source": [
    "macros = np.array([\n",
    "  [0.8, 2.9, 3.9],\n",
    "  [52.4, 23.6, 36.5],\n",
    "  [55.2, 31.7, 23.9],\n",
    "  [14.4, 11, 4.9]\n",
    "   ])\n",
    " \n",
    "# Create a new array filled with zeros,\n",
    "# of the same shape as macros.\n",
    "result = np.zeros_like(macros)\n",
    " \n",
    "cal_per_macro = np.array([3, 3, 8])\n",
    "print(cal_per_macro)\n",
    " \n",
    "# Now multiply each row of macros by\n",
    "# cal_per_macro. In Numpy, `*` is\n",
    "# element-wise multiplication between two arrays.\n",
    "for i in range(macros.shape[0]):\n",
    "    result[i, :] = macros[i, :] * cal_per_macro\n",
    "    #  The colon : is used to select all the columns of the i-th row.\n",
    " \n",
    "result"
   ]
  },
  {
   "cell_type": "code",
   "execution_count": null,
   "metadata": {},
   "outputs": [],
   "source": [
    "arr = np.random.randn(3, 4, 5)\n",
    "depth_means = arr.mean(2)\n",
    "depth_means\n",
    "depth_means.shape\n",
    "demeaned = arr - depth_means[:, :, np.newaxis]\n",
    "demeaned.mean(2)\n",
    "\n",
    "arr = np.zeros((4, 3))\n",
    "arr[:] = 5\n",
    "arr"
   ]
  }
 ],
 "metadata": {
  "kernelspec": {
   "display_name": "Python 3",
   "language": "python",
   "name": "python3"
  },
  "language_info": {
   "codemirror_mode": {
    "name": "ipython",
    "version": 3
   },
   "file_extension": ".py",
   "mimetype": "text/x-python",
   "name": "python",
   "nbconvert_exporter": "python",
   "pygments_lexer": "ipython3",
   "version": "3.10.2"
  },
  "orig_nbformat": 4
 },
 "nbformat": 4,
 "nbformat_minor": 2
}
