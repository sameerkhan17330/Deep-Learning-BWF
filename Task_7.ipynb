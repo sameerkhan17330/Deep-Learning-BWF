{
  "nbformat": 4,
  "nbformat_minor": 0,
  "metadata": {
    "colab": {
      "provenance": [],
      "authorship_tag": "ABX9TyMZ0EV+wRBce9RvrvHJn0lu",
      "include_colab_link": true
    },
    "kernelspec": {
      "name": "python3",
      "display_name": "Python 3"
    },
    "language_info": {
      "name": "python"
    }
  },
  "cells": [
    {
      "cell_type": "markdown",
      "metadata": {
        "id": "view-in-github",
        "colab_type": "text"
      },
      "source": [
        "<a href=\"https://colab.research.google.com/github/sameerkhan17330/Deep-Learning-BWF/blob/main/Task_7.ipynb\" target=\"_parent\"><img src=\"https://colab.research.google.com/assets/colab-badge.svg\" alt=\"Open In Colab\"/></a>"
      ]
    },
    {
      "cell_type": "code",
      "execution_count": null,
      "metadata": {
        "id": "DgNaDbLd0TWF"
      },
      "outputs": [],
      "source": [
        "#                                  -----------------------  CHAPTER 8 ------------------\n",
        "#                                                           Functions"
      ]
    },
    {
      "cell_type": "markdown",
      "source": [],
      "metadata": {
        "id": "qy6E9uUeiKKp"
      }
    },
    {
      "cell_type": "code",
      "source": [
        "# 8-1. Message: Write a function called display_message() that prints one sen-tence telling everyone what you are learning about in this chapter.\n",
        "\n",
        "def display_message():\n",
        "  message = \"I am learning functions in this chapter.\"\n",
        "  return message\n",
        "\n",
        "display_message()\n",
        "\n",
        "#  8-2. Favorite Book: Write a function called favorite_book() that accepts oneparameter, title.\n",
        "\n",
        "def favorite_book(title):\n",
        "  book = \"One of my favourite book is {}\".format(title)\n",
        "  return book\n",
        "\n",
        "favorite_book(\"Alice is wonderland\")\n"
      ],
      "metadata": {
        "id": "Bq-FNysy0ptr"
      },
      "execution_count": null,
      "outputs": []
    },
    {
      "cell_type": "code",
      "source": [
        "#  8-3. T-Shirt: Write a function called make_shirt() that accepts a size and the text of a message that should be printed on the shirt. \n",
        "\n",
        "def make_shirt(size, printing_text):\n",
        "  text_and_size = \"the size of shirt is {} and message printed on it is '{}'\".format(size,printing_text)\n",
        "  return text_and_size\n",
        "\n",
        "make_shirt(33, 'The success is uploading')\n",
        "make_shirt(size=33,printing_text='The success is uploading')\n",
        "\n",
        "#  8-4. Large Shirts: Modify the make_shirt() function so that shirts are largeby default with a message that reads I love Python.\n",
        "\n",
        "def large_shirt(shirt ='large', msg ='I love python'):\n",
        "  print(\"size of shirt is:\"+shirt)\n",
        "  print(msg)\n",
        "\n",
        "large_shirt()\n",
        "large_shirt(shirt = 'medium')\n",
        "large_shirt(shirt = 'small', msg = 'function is very interesting.')\n",
        "\n",
        "#  8-5. Cities: Write a function called describe_city() that accepts the name ofa city and its country.\n",
        "\n",
        "def describe_city(city,country='pakistan'):\n",
        "  name = \"{} is in {}\".format(city, country)\n",
        "  return name\n",
        "\n",
        "describe_city(city='lahore')\n",
        "describe_city(city='karachi')\n",
        "describe_city(city='new york', country='america')"
      ],
      "metadata": {
        "id": "dXdpRTd93Vgz"
      },
      "execution_count": null,
      "outputs": []
    },
    {
      "cell_type": "code",
      "source": [
        "#  8-6. City Names: Write a function called city_country() that takes in the name of a city and its country. \n",
        "\n",
        "def city_country(city,country):\n",
        "  print('\"{}, {}\"'.format(city,country))\n",
        "\n",
        "city_country('santiago','chile')\n",
        "\n",
        "#  8-7. Album: Write a function called make_album() that builds a dictionary describing a music album.\n",
        "\n",
        "def make_album(artist, album_title, tracks=0):\n",
        "  diction = {'artist_name':artist, 'album_title':album_title}\n",
        "  if tracks:\n",
        "    diction['tracks']  = tracks\n",
        "\n",
        "  return diction\n",
        "\n",
        "print(make_album(\"ali\", 'tery nam'))\n",
        "print(make_album(\"faiq\", 'tery faiqy'))\n",
        "print(make_album(\"dancer\", 'dance dancer')) \n",
        "print(make_album(\"cahin\", 'cahin clash',25))\n",
        "\n",
        "#  8-8. User Albums:  Write a while loop that allows users to enter an album’s artist and title.\n",
        "\n",
        "def make_album_2():\n",
        "  count = 0\n",
        "  while(count<1):\n",
        "    artist = input(\"Enter artist name: \")\n",
        "    album_title = input(\"Enter album title: \")\n",
        "    count += 1\n",
        "\n",
        "  diction = {'artist_name':artist, 'album_title':album_title}\n",
        "\n",
        "  return diction\n",
        "\n",
        "print(make_album_2())\n",
        "print(make_album_2())"
      ],
      "metadata": {
        "id": "UuAmp0cHFiYI"
      },
      "execution_count": null,
      "outputs": []
    },
    {
      "cell_type": "code",
      "source": [
        "#  8-9. Magicians: Make a list of magician’s names\n",
        "\n",
        "magicians = ['john', 'mark', 'wood']\n",
        "def show_magician(magicians):\n",
        "  for names in magicians:\n",
        "    print(names)\n",
        "    \n",
        "\n",
        "show_magician(magicians)\n",
        "\n",
        "# 8-10. Great Magicians: Start with a copy of your program from Exercise 8-9.\n",
        "\n",
        "magicians = ['john', 'mark', 'wood']\n",
        "def show_magician(magicians):\n",
        "  for names in magicians:\n",
        "    print(names)\n",
        "\n",
        "great_magicians = []\n",
        "def make_great(magicians):\n",
        "  for name in magicians:\n",
        "    modify = \"the great \"+name\n",
        "    great_magicians.append(modify)\n",
        "  return great_magicians\n",
        "print(make_great(magicians))\n",
        "magicians = []\n",
        "for great_magician in great_magicians:\n",
        "    magicians.append(great_magician)\n",
        "\n",
        "print(magicians)\n",
        "#  8-11. Unchanged Magicians: Start with your work from Exercise 8-10.\n",
        "\n",
        "def show_magicians(magicians):\n",
        "    \"\"\"Print the name of each magician in the list.\"\"\"\n",
        "    for magician in magicians:\n",
        "        print(magician)\n",
        "\n",
        "def make_great(magicians):\n",
        "    \"\"\"Add 'the Great!' to each magician's name.\"\"\"\n",
        "    # Build a new list to hold the great musicians.\n",
        "    great_magicians = []\n",
        "\n",
        "    # Make each magician great, and add it to great_magicians.\n",
        "    while magicians:\n",
        "        magician = magicians.pop()\n",
        "        great_magician = magician + ' the Great'\n",
        "        great_magicians.append(great_magician)\n",
        "\n",
        "    # Add the great magicians back into magicians.\n",
        "    for great_magician in great_magicians:\n",
        "        magicians.append(great_magician)\n",
        "\n",
        "    return magicians\n",
        "\n",
        "magicians = ['Harry Houdini', 'David Blaine', 'Teller']\n",
        "show_magicians(magicians)\n",
        "\n",
        "print(\"\\nGreat magicians:\")\n",
        "great_magicians = make_great(magicians[:])\n",
        "show_magicians(great_magicians)\n",
        "\n",
        "print(\"\\nOriginal magicians:\")\n",
        "show_magicians(magicians)\n"
      ],
      "metadata": {
        "id": "IOPMlXY-PX1X"
      },
      "execution_count": null,
      "outputs": []
    },
    {
      "cell_type": "code",
      "source": [
        "#  8-12. Sandwiches: Write a function that accepts a list of items a person wants on a sandwich. \n",
        "\n",
        "def sandwich(*items):\n",
        "  print(\"summary of your sadwich order\")\n",
        "  for item in items:\n",
        "    print(\"Extra's: \"+item)\n",
        "\n",
        "sandwich('peproni', 'mio', 'katchup')\n",
        "sandwich('peproni', 'mio', 'katchup', 'burfi')\n",
        "sandwich('peproni')\n",
        "\n",
        "#  8-13. User Profile: Start with a copy of user_profile.py from page 153. \n",
        "\n",
        "def build_profile(first, last, **user_info):\n",
        " profile = {}\n",
        " profile['first_name'] = first\n",
        " profile['last_name'] = last\n",
        " for key, value in user_info.items():\n",
        "  profile[key] = value\n",
        " return profile\n",
        "user_profile = build_profile('sameer', 'zaffar',fact='no-lie',hobby='books')\n",
        "print(user_profile)\n",
        "\n",
        "#  8-14. Cars: Write a function that stores information about a car in a diction\u0002ary. \n",
        "\n",
        "car = {}\n",
        "def car_info(manufacturer, model, **options):\n",
        "  car['manufacturer'] = manufacturer\n",
        "  car['model'] = model\n",
        "  for option, value in options.items():\n",
        "        car[option] = value\n",
        "  return car\n",
        "my_outback = car_info('subaru', 'outback', color='blue', tow_package=True)\n",
        "print(my_outback)"
      ],
      "metadata": {
        "id": "J8fXOlB8ad7p"
      },
      "execution_count": null,
      "outputs": []
    }
  ]
}