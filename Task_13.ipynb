{
 "cells": [
  {
   "cell_type": "code",
   "execution_count": null,
   "metadata": {},
   "outputs": [],
   "source": [
    "#                  -----------------------     Pandas   ---------------------\n",
    "\n",
    "                                        \n",
    "                                              # SERIES #"
   ]
  },
  {
   "cell_type": "code",
   "execution_count": null,
   "metadata": {},
   "outputs": [],
   "source": [
    "import pandas as pd\n",
    "import numpy as np\n",
    "\n",
    "a = pd.Series([[1,2,3,4],[5,6,7,8],[9,8,7,6]])\n",
    "print(a)\n",
    "print(a.values)\n",
    "\n",
    "b = pd.Series([[1,2,3,4],[5,6,7,8],[9,8,7,6]],index= ['s','a', 'm', ])\n",
    "print(b)\n",
    "print(b.index)\n",
    "print(b.values)\n",
    "print(b.dtype)\n",
    "\n",
    "c = pd.Series([1,2,3,4])\n",
    "print(c*2)\n",
    "print(np.exp(c))"
   ]
  },
  {
   "cell_type": "code",
   "execution_count": null,
   "metadata": {},
   "outputs": [],
   "source": [
    "#              --------------------      DataFrame     -------------------------"
   ]
  },
  {
   "cell_type": "code",
   "execution_count": null,
   "metadata": {},
   "outputs": [],
   "source": [
    "data = {'state': ['Ohio', 'Ohio', 'Ohio', 'Nevada', 'Nevada', 'Nevada'],\n",
    " 'year': [2000, 2001, 2002, 2001, 2002, 2003],\n",
    " 'pop': [1.5, 1.7, 3.6, 2.4, 2.9, 3.2]}\n",
    "frame = pd.DataFrame(data)\n",
    "\n",
    "frame\n"
   ]
  },
  {
   "cell_type": "code",
   "execution_count": null,
   "metadata": {},
   "outputs": [],
   "source": [
    "frame.head()"
   ]
  },
  {
   "cell_type": "code",
   "execution_count": null,
   "metadata": {},
   "outputs": [],
   "source": [
    "pd.DataFrame(data, columns=['year', 'state', 'pop'])"
   ]
  },
  {
   "cell_type": "code",
   "execution_count": null,
   "metadata": {},
   "outputs": [],
   "source": [
    "frame2 = pd.DataFrame(data, columns=['year', 'state', 'pop', 'debt'],\n",
    "index=['one', 'two', 'three', 'four','five', 'six'])\n",
    "print(frame2)\n",
    "print(frame2.columns)\n",
    "print(frame2['state'])\n",
    "print( frame2.year)\n",
    "print( frame2.loc['three'])\n",
    "frame2['debt'] = 16.5\n",
    "print(frame2)\n",
    "frame2['debt'] = np.arange(6.)\n",
    "print(frame2)\n",
    "val = pd.Series([-1.2, -1.5, -1.7], index=['two', 'four', 'five'])\n",
    "frame2['debt'] = val\n",
    "print(frame2)"
   ]
  },
  {
   "cell_type": "code",
   "execution_count": null,
   "metadata": {},
   "outputs": [],
   "source": [
    "#               ----------------------      index Objects        --------------------"
   ]
  },
  {
   "cell_type": "code",
   "execution_count": null,
   "metadata": {},
   "outputs": [],
   "source": [
    "obj = pd.Series(range(3), index=['a', 'b', 'c'])\n",
    "index = obj.index\n",
    "print(index)\n",
    "index[1:]\n",
    "labels = pd.Index(np.arange(3))\n",
    "print(labels)\n",
    "obj2 = pd.Series([1.5, -2.5, 0], index=labels)\n",
    "print(obj2)"
   ]
  },
  {
   "cell_type": "code",
   "execution_count": null,
   "metadata": {},
   "outputs": [],
   "source": [
    "#                -----------------------   Reindexing  -----------------"
   ]
  },
  {
   "cell_type": "code",
   "execution_count": null,
   "metadata": {},
   "outputs": [],
   "source": [
    "obj = pd.Series([4.5, 7.2, -5.3, 3.6], index=['d', 'b', 'a', 'c'])\n",
    "print(obj)\n",
    "obj2 = obj.reindex(['a', 'b', 'c', 'd', 'e'])\n",
    "print(obj2)\n",
    "obj3 = pd.Series(['blue', 'purple', 'yellow'], index=[0, 2, 4])\n",
    "print(obj3)\n",
    "obj3.reindex(range(6), method='ffill')\n",
    "print(obj3)\n",
    "frame = pd.DataFrame(np.arange(9).reshape((3, 3)),\n",
    "index=['a', 'c', 'd'],\n",
    "columns=['Ohio', 'Texas', 'California'])\n",
    "print(frame)\n",
    "frame2 = frame.reindex(['a', 'b', 'c', 'd'])\n",
    "print(frame2)\n",
    "\n"
   ]
  },
  {
   "cell_type": "code",
   "execution_count": null,
   "metadata": {},
   "outputs": [],
   "source": [
    "#                   --------------   Dropping Entries from an Axis ------------"
   ]
  },
  {
   "cell_type": "code",
   "execution_count": null,
   "metadata": {},
   "outputs": [],
   "source": [
    "obj = pd.Series(np.arange(5.), index=['a', 'b', 'c', 'd', 'e'])\n",
    "print(obj)\n",
    "new_obj = obj.drop('c')\n",
    "print(new_obj)\n",
    "\n",
    "data = pd.DataFrame(np.arange(16).reshape((4, 4)),\n",
    "index=['Ohio', 'Colorado', 'Utah', 'New York'],\n",
    "columns=['one', 'two', 'three', 'four'])\n",
    "print(data)\n",
    "data.drop(['Colorado', 'Ohio'])\n",
    "print(data)\n"
   ]
  },
  {
   "cell_type": "code",
   "execution_count": null,
   "metadata": {},
   "outputs": [],
   "source": [
    "#           -------------------------------   Indexing and Filtering -------------------------"
   ]
  },
  {
   "cell_type": "code",
   "execution_count": null,
   "metadata": {},
   "outputs": [],
   "source": [
    "obj = pd.Series(np.arange(4.), index=['a', 'b', 'c', 'd'])\n",
    "print(obj)\n",
    "print(obj['b'])\n",
    "print(obj[1])\n",
    "print(obj[obj < 2])\n",
    "\n",
    "data = pd.DataFrame(np.arange(16).reshape((4, 4)),\n",
    "index=['Ohio', 'Colorado', 'Utah', 'New York'],\n",
    "columns=['one', 'two', 'three', 'four'])\n",
    "\n",
    "print(data['two'])\n",
    "data[data < 5] = 0\n",
    "print(data)\n",
    "print(data.iloc[2, [3, 0, 1]])\n",
    "\n"
   ]
  },
  {
   "cell_type": "code",
   "execution_count": null,
   "metadata": {},
   "outputs": [],
   "source": [
    "#                     --------------------------  Arithmetic and Data Alignment  ------------------------"
   ]
  },
  {
   "cell_type": "code",
   "execution_count": null,
   "metadata": {},
   "outputs": [],
   "source": [
    "s1 = pd.Series([7.3, -2.5, 3.4, 1.5], index=['a', 'c', 'd', 'e'])\n",
    "s2 = pd.Series([-2.1, 3.6, -1.5, 4, 3.1], index=['a', 'c', 'e', 'f', 'g'])\n",
    "print(s1+s2)\n",
    "\n",
    "df1 = pd.DataFrame(np.arange(9.).reshape((3, 3)), columns=list('bcd'),\n",
    "index=['Ohio', 'Texas', 'Colorado'])\n",
    "df2 = pd.DataFrame(np.arange(12.).reshape((4, 3)), columns=list('bde'),\n",
    "index=['Utah', 'Ohio', 'Texas', 'Oregon'])\n",
    "print(df1)\n",
    "print(df2)\n",
    "print(df1 + df2)"
   ]
  },
  {
   "cell_type": "code",
   "execution_count": null,
   "metadata": {},
   "outputs": [],
   "source": [
    "#          ---------------------------  Function Application and Mapping  ----------------------------"
   ]
  },
  {
   "cell_type": "code",
   "execution_count": null,
   "metadata": {},
   "outputs": [],
   "source": [
    "sam = pd.DataFrame(np.random.randn(12).reshape(4,3), columns = list('sam'), \n",
    "index= ['one', 'two', 'three', 'four'])\n",
    "print(sam)\n",
    "print(np.abs(sam))\n",
    "\n",
    "f = lambda x: x.max()-x.min()\n",
    "print(sam.apply(f))\n",
    "print(sam.apply(f, axis='columns'))\n",
    "format = lambda x: '%.2f' % x\n",
    "print(frame.applymap(format))\n",
    "\n"
   ]
  },
  {
   "cell_type": "code",
   "execution_count": null,
   "metadata": {},
   "outputs": [],
   "source": [
    "#           -------------------------   Sorting and Ranking   --------------------------"
   ]
  },
  {
   "cell_type": "code",
   "execution_count": null,
   "metadata": {},
   "outputs": [],
   "source": [
    "obj = pd.Series(range(4), index=['d', 'a', 'b', 'c'])\n",
    "print(obj.sort_index())\n",
    "frame = pd.DataFrame(np.arange(8).reshape((2, 4)),\n",
    "index=['three', 'one'],columns=['d', 'a', 'b', 'c'])\n",
    "print(frame.sort_index())\n",
    "print(frame.sort_index(axis=1, ascending=False))\n",
    "obj = pd.Series([4, 7, -3, 2])\n",
    "print(obj.sort_values())\n",
    "\n"
   ]
  },
  {
   "cell_type": "code",
   "execution_count": null,
   "metadata": {},
   "outputs": [],
   "source": [
    "#            ------------------  Unique Values, Value Counts, and Membership -------------------"
   ]
  },
  {
   "cell_type": "code",
   "execution_count": null,
   "metadata": {},
   "outputs": [],
   "source": [
    "obj = pd.Series(['c', 'a', 'd', 'a', 'a', 'b', 'b', 'c', 'c'])\n",
    "uniques = obj.unique()\n",
    "print(uniques)\n",
    "print(obj.value_counts())\n",
    "print(pd.value_counts(obj.values, sort=False))\n",
    "mask = obj.isin(['b', 'c'])\n",
    "print(mask)\n"
   ]
  }
 ],
 "metadata": {
  "kernelspec": {
   "display_name": "Python 3",
   "language": "python",
   "name": "python3"
  },
  "language_info": {
   "codemirror_mode": {
    "name": "ipython",
    "version": 3
   },
   "file_extension": ".py",
   "mimetype": "text/x-python",
   "name": "python",
   "nbconvert_exporter": "python",
   "pygments_lexer": "ipython3",
   "version": "3.10.2"
  },
  "orig_nbformat": 4
 },
 "nbformat": 4,
 "nbformat_minor": 2
}
