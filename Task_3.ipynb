{
  "nbformat": 4,
  "nbformat_minor": 0,
  "metadata": {
    "colab": {
      "provenance": [],
      "authorship_tag": "ABX9TyNnN2NwmgkY9McLJcfbeFJR",
      "include_colab_link": true
    },
    "kernelspec": {
      "name": "python3",
      "display_name": "Python 3"
    },
    "language_info": {
      "name": "python"
    }
  },
  "cells": [
    {
      "cell_type": "markdown",
      "metadata": {
        "id": "view-in-github",
        "colab_type": "text"
      },
      "source": [ 
        "<a href=\"https://colab.research.google.com/github/sameerkhan17330/Deep-Learning-BWF/blob/main/Task_3.ipynb\" target=\"_parent\"><img src=\"https://colab.research.google.com/assets/colab-badge.svg\" alt=\"Open In Colab\"/></a>"
      ]
    },
    {
      "cell_type": "code",
      "source": [
        "# exercise chapter_1 \n"
      ],
      "metadata": {
        "id": "1qcMdvd88Ddj"
      },
      "execution_count": 14,
      "outputs": []
    },
    {
      "cell_type": "code",
      "source": [
        "# question 1.2\n",
        "\n",
        "\"\"\"typo somewhere in the line and run the program again. Can you make a typo \n",
        "that generates an error? Can you make sense of the error message? Can you \n",
        "make a typo that doesn’t generate an error? Why do you think it didn’t make \n",
        "an error\"\"\"\n"
      ],
      "metadata": {
        "id": "ah1hKAFo-ub3"
      },
      "execution_count": 16,
      "outputs": []
    },
    {
      "cell_type": "code",
      "source": [
        " #                         ---------typo error------\n",
        "print('My pet's name is tommy')                   # error message occurs because we use single quotation marks to print and\n",
        "                                                  # single quotation inside the messges. Interpreter couldn't differnetiate btw them\n"
      ],
      "metadata": {
        "colab": {
          "base_uri": "https://localhost:8080/",
          "height": 134
        },
        "id": "yZ2MbtqmJA_4",
        "outputId": "15a88f9e-5e0a-40ff-e7ff-83bad24e3d70"
      },
      "execution_count": 17,
      "outputs": [
        {
          "output_type": "error",
          "ename": "SyntaxError",
          "evalue": "ignored",
          "traceback": [
            "\u001b[0;36m  File \u001b[0;32m\"<ipython-input-17-dc9874d7dbe1>\"\u001b[0;36m, line \u001b[0;32m1\u001b[0m\n\u001b[0;31m    print('My pet's name is tommy')\u001b[0m\n\u001b[0m                  ^\u001b[0m\n\u001b[0;31mSyntaxError\u001b[0m\u001b[0;31m:\u001b[0m invalid syntax\n"
          ]
        }
      ]
    },
    {
      "cell_type": "code",
      "source": [
        "    #                typo that doesn't generate error\n",
        "    \n",
        "list = [1,2,]       # extra comma end of 2 is a typo mistake. \n",
        "print(list)         # This is known as a trailing comma. While the trailing comma is allowed and\n",
        "                     #does not generate an error, it is generally not considered good style and can actually make code less readable. "
      ],
      "metadata": {
        "colab": {
          "base_uri": "https://localhost:8080/"
        },
        "id": "IJiIx_3FJkn9",
        "outputId": "8131b455-0eee-4bba-f506-23af1c5d26ef"
      },
      "execution_count": 25,
      "outputs": [
        {
          "output_type": "stream",
          "name": "stdout",
          "text": [
            "[1, 2]\n"
          ]
        }
      ]
    },
    {
      "cell_type": "code",
      "source": [
        "               # Three programs i would like to create\n",
        "\n",
        "   #1 :  a software that is used in many feild for presenting something via 3d models. People can teach online via 3d models etc. \n",
        "   #2 :  Surviellence sytem based on computer vision\n",
        "   #3 : nline and offline chatbots to automot my daily routine tasks.       "
      ],
      "metadata": {
        "id": "mWbeHyJzO3Ih"
      },
      "execution_count": 26,
      "outputs": []
    },
    {
      "cell_type": "code",
      "source": [
        "    #            ----------------- chapter 2 --------------       "
      ],
      "metadata": {
        "id": "uISmZKqiQN8V"
      },
      "execution_count": 27,
      "outputs": []
    },
    {
      "cell_type": "code",
      "source": [
        "#             2.1                        Q: Store a message in a variable, and then print that message\n",
        "\n",
        "message = \"This is task 3\"\n",
        "print(message)\n",
        "\n",
        "#            2.2                         Q: Then change the value of your variable to a new message, and print the new message\n",
        "message = \"Message is changed\"\n",
        "print(message)"
      ],
      "metadata": {
        "colab": {
          "base_uri": "https://localhost:8080/"
        },
        "id": "QIIWZpU3QiDn",
        "outputId": "84ef50ae-b241-44be-fc60-58204e51e8f0"
      },
      "execution_count": 29,
      "outputs": [
        {
          "output_type": "stream",
          "name": "stdout",
          "text": [
            "This is task 3\n",
            "Message is changed\n"
          ]
        }
      ]
    },
    {
      "cell_type": "code",
      "source": [
        "#        2.3                          Q: : Store a person’s name in a variable, and print a mes\u0002sage to that person\n",
        "message = \"Hey Eric, how are you?\"\n",
        "print(message)\n",
        "#      2.4                            Q: print that per\u0002son’s name in lowercase, uppercase, and titlecase.\n",
        "print(message.title())          \n",
        "print(message.upper())\n",
        "print(message.lower())\n",
        "#      2.5                          Q: Your output should look something like the following, including the quotation marks:Albert Einstein once said, “A person who never made a mistake never tried anything new.”\n",
        "\n",
        "print('Albert Einstein once said, \"person who never made a mistake never tried anything new.\"')\n",
        "#    2.6                           Q: : Repeat Exercise 2-5, but this time store the famous per\u0002son’s name in a variable called famous_person. Then compose your message and store it in a new variable called message. Print your message.\n",
        "\n",
        "famous_person  = \"Albert Einstein\"\n",
        "message = \"person who never made a mistake never tried anything new.\"\n",
        "print('{} once said, \"{}\"'.format(famous_person, message))\n",
        "#   2.7                              Q: Print the name once, so the whitespace around the name is displayed.Then print the name using each of the three stripping functions, lstrip(), rstrip(), and strip().\n",
        "\n",
        "first_name = \"harry\"\n",
        "last_name = \"potter\"\n",
        "full_name = \"\\t\\t\"+first_name+\" \"+ last_name+\"\\t\\t\\n\"\n",
        "print(full_name.lstrip())\n",
        "print(full_name.rstrip())\n",
        "print(full_name.strip())"
      ],
      "metadata": {
        "id": "TQU-twshRTN-"
      },
      "execution_count": null,
      "outputs": []
    },
    {
      "cell_type": "code",
      "source": [
        "#    2.8                        Q: Write addition, subtraction, multiplication, and division operations that each result in the number 8.\n",
        "\n",
        "print(5+3)\n",
        "print(10-2)\n",
        "print(4*2)\n",
        "print(int(16/2))\n",
        "#    2.9                       Q:  Store your favorite number in a variable. Then, using that variable, create a message that reveals your favorite number.\n",
        "fav_num = 10\n",
        "message = \"I admire Messi alot. So {} is my favourite number\".format(fav_num)\n",
        "print(message)\n",
        "\n",
        "#  2.10                         Q: impor this\n",
        "\n",
        "import this"
      ],
      "metadata": {
        "id": "GAWPwOjRWbkV"
      },
      "execution_count": null,
      "outputs": []
    }
  ]
}
