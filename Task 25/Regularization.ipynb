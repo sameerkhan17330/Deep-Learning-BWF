{
 "cells": [
  {
   "attachments": {},
   "cell_type": "markdown",
   "metadata": {},
   "source": [
    "# Task 25\n",
    "\n",
    "Regularization example\n"
   ]
  },
  {
   "attachments": {},
   "cell_type": "markdown",
   "metadata": {},
   "source": []
  },
  {
   "cell_type": "code",
   "execution_count": 1,
   "metadata": {},
   "outputs": [],
   "source": [
    "from tensorflow import keras\n",
    "from keras import layers, regularizers\n",
    "from keras.datasets import imdb\n",
    "import matplotlib.pyplot as plt"
   ]
  },
  {
   "cell_type": "code",
   "execution_count": 2,
   "metadata": {},
   "outputs": [],
   "source": [
    "# Load the IMDB dataset\n",
    "(train_data, train_labels), (test_data, test_labels) = imdb.load_data(num_words=10000)"
   ]
  },
  {
   "cell_type": "code",
   "execution_count": 3,
   "metadata": {},
   "outputs": [],
   "source": [
    "# Pad the sequences to be the same length\n",
    "train_data = keras.preprocessing.sequence.pad_sequences(train_data, maxlen=10000)\n",
    "test_data = keras.preprocessing.sequence.pad_sequences(test_data, maxlen=10000)"
   ]
  },
  {
   "cell_type": "code",
   "execution_count": 4,
   "metadata": {},
   "outputs": [],
   "source": [
    "# Define the model with L2 regularization\n",
    "model = keras.Sequential([\n",
    "    layers.Dense(16, kernel_regularizer=regularizers.l2(0.001), activation='relu', input_shape=(10000,)),\n",
    "    layers.Dropout(0.5),\n",
    "    layers.Dense(16, kernel_regularizer=regularizers.l2(0.001), activation='relu'),\n",
    "    layers.Dropout(0.5),\n",
    "    layers.Dense(1, activation='sigmoid')\n",
    "])\n"
   ]
  },
  {
   "cell_type": "code",
   "execution_count": 5,
   "metadata": {},
   "outputs": [],
   "source": [
    "\n",
    "# Compile the model\n",
    "model.compile(optimizer='adam', loss='binary_crossentropy', metrics=['accuracy'])"
   ]
  },
  {
   "cell_type": "code",
   "execution_count": 6,
   "metadata": {},
   "outputs": [
    {
     "name": "stdout",
     "output_type": "stream",
     "text": [
      "Epoch 1/20\n",
      "40/40 [==============================] - 3s 41ms/step - loss: 16.2271 - accuracy: 0.5015 - val_loss: 0.7347 - val_accuracy: 0.5062\n",
      "Epoch 2/20\n",
      "40/40 [==============================] - 1s 36ms/step - loss: 0.7446 - accuracy: 0.4989 - val_loss: 0.7213 - val_accuracy: 0.5068\n",
      "Epoch 3/20\n",
      "40/40 [==============================] - 2s 39ms/step - loss: 0.7415 - accuracy: 0.4974 - val_loss: 0.7195 - val_accuracy: 0.4940\n",
      "Epoch 4/20\n",
      "40/40 [==============================] - 2s 44ms/step - loss: 0.7256 - accuracy: 0.5016 - val_loss: 0.7197 - val_accuracy: 0.4934\n",
      "Epoch 5/20\n",
      "40/40 [==============================] - 2s 49ms/step - loss: 0.7506 - accuracy: 0.5017 - val_loss: 0.7201 - val_accuracy: 0.4934\n",
      "Epoch 6/20\n",
      "40/40 [==============================] - 2s 38ms/step - loss: 0.7181 - accuracy: 0.5015 - val_loss: 0.7200 - val_accuracy: 0.4932\n",
      "Epoch 7/20\n",
      "40/40 [==============================] - 1s 37ms/step - loss: 0.7185 - accuracy: 0.5016 - val_loss: 0.7193 - val_accuracy: 0.4936\n",
      "Epoch 8/20\n",
      "40/40 [==============================] - 2s 38ms/step - loss: 0.7215 - accuracy: 0.5015 - val_loss: 0.7188 - val_accuracy: 0.4932\n",
      "Epoch 9/20\n",
      "40/40 [==============================] - 2s 38ms/step - loss: 0.7162 - accuracy: 0.5016 - val_loss: 0.7196 - val_accuracy: 0.4930\n",
      "Epoch 10/20\n",
      "40/40 [==============================] - 2s 48ms/step - loss: 0.7161 - accuracy: 0.5016 - val_loss: 0.7192 - val_accuracy: 0.4930\n",
      "Epoch 11/20\n",
      "40/40 [==============================] - 2s 46ms/step - loss: 0.7215 - accuracy: 0.5014 - val_loss: 0.7187 - val_accuracy: 0.4934\n",
      "Epoch 12/20\n",
      "40/40 [==============================] - 2s 41ms/step - loss: 0.7133 - accuracy: 0.5016 - val_loss: 0.7188 - val_accuracy: 0.4934\n",
      "Epoch 13/20\n",
      "40/40 [==============================] - 1s 36ms/step - loss: 0.7133 - accuracy: 0.5017 - val_loss: 0.7187 - val_accuracy: 0.4934\n",
      "Epoch 14/20\n",
      "40/40 [==============================] - 2s 40ms/step - loss: 0.7147 - accuracy: 0.5014 - val_loss: 0.7191 - val_accuracy: 0.4936\n",
      "Epoch 15/20\n",
      "40/40 [==============================] - 1s 37ms/step - loss: 0.7140 - accuracy: 0.5015 - val_loss: 0.7190 - val_accuracy: 0.4938\n",
      "Epoch 16/20\n",
      "40/40 [==============================] - 1s 37ms/step - loss: 0.7135 - accuracy: 0.5014 - val_loss: 0.7188 - val_accuracy: 0.4938\n",
      "Epoch 17/20\n",
      "40/40 [==============================] - 1s 37ms/step - loss: 0.7145 - accuracy: 0.4963 - val_loss: 0.7187 - val_accuracy: 0.4938\n",
      "Epoch 18/20\n",
      "40/40 [==============================] - 1s 36ms/step - loss: 0.7133 - accuracy: 0.5015 - val_loss: 0.7187 - val_accuracy: 0.4938\n",
      "Epoch 19/20\n",
      "40/40 [==============================] - 1s 36ms/step - loss: 0.7130 - accuracy: 0.5016 - val_loss: 0.7190 - val_accuracy: 0.4938\n",
      "Epoch 20/20\n",
      "40/40 [==============================] - 2s 40ms/step - loss: 0.7128 - accuracy: 0.5016 - val_loss: 0.7190 - val_accuracy: 0.4938\n"
     ]
    }
   ],
   "source": [
    "# Train the model\n",
    "history = model.fit(train_data, train_labels, epochs=20, batch_size=512, validation_split=0.2)\n"
   ]
  },
  {
   "cell_type": "code",
   "execution_count": 7,
   "metadata": {},
   "outputs": [
    {
     "data": {
      "image/png": "[encoded data removed]",
      "text/plain": [
       "<Figure size 640x480 with 1 Axes>"
      ]
     },
     "metadata": {},
     "output_type": "display_data"
    }
   ],
   "source": [
    "# Plot the training and validation loss\n",
    "plt.plot(history.history['loss'], label='Training Loss')\n",
    "plt.plot(history.history['val_loss'], label='Validation Loss')\n",
    "plt.xlabel('Epoch')\n",
    "plt.ylabel('Loss')\n",
    "plt.legend()\n",
    "plt.show()"
   ]
  }
 ],
 "metadata": {
  "kernelspec": {
   "display_name": "Python 3",
   "language": "python",
   "name": "python3"
  },
  "language_info": {
   "codemirror_mode": {
    "name": "ipython",
    "version": 3
   },
   "file_extension": ".py",
   "mimetype": "text/x-python",
   "name": "python",
   "nbconvert_exporter": "python",
   "pygments_lexer": "ipython3",
   "version": "3.10.2"
  },
  "orig_nbformat": 4
 },
 "nbformat": 4,
 "nbformat_minor": 2
}
