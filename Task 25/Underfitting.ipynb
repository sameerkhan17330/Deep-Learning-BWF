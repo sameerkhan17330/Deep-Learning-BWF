{
 "cells": [
  {
   "attachments": {},
   "cell_type": "markdown",
   "metadata": {},
   "source": [
    "Task 25\n",
    "Overfitting, underfitting, regularization\n",
    "\n",
    "underfitting example\n"
   ]
  },
  {
   "attachments": {},
   "cell_type": "markdown",
   "metadata": {},
   "source": []
  },
  {
   "cell_type": "code",
   "execution_count": 17,
   "metadata": {},
   "outputs": [],
   "source": [
    "from tensorflow import keras\n",
    "from keras import layers\n",
    "import matplotlib.pyplot as plt\n",
    "from keras.datasets import imdb\n"
   ]
  },
  {
   "cell_type": "code",
   "execution_count": 18,
   "metadata": {},
   "outputs": [],
   "source": [
    "# Load the IMDB dataset\n",
    "(train_data, train_labels), (test_data, test_labels) = imdb.load_data(num_words=10000)\n"
   ]
  },
  {
   "cell_type": "code",
   "execution_count": 19,
   "metadata": {},
   "outputs": [],
   "source": [
    "# Pad the sequences to be the same length\n",
    "\n",
    "train_data = keras.preprocessing.sequence.pad_sequences(train_data, maxlen=10000)\n",
    "test_data = keras.preprocessing.sequence.pad_sequences(test_data, maxlen=10000)\n"
   ]
  },
  {
   "cell_type": "code",
   "execution_count": 20,
   "metadata": {},
   "outputs": [],
   "source": [
    "model = keras.Sequential([\n",
    "    layers.Dense(8, activation='relu', input_shape=(10000,)),\n",
    "    layers.Dense(1, activation='sigmoid')\n",
    "])"
   ]
  },
  {
   "cell_type": "code",
   "execution_count": 21,
   "metadata": {},
   "outputs": [],
   "source": [
    "# Compile the model\n",
    "model.compile(optimizer='adam',\n",
    "              loss='binary_crossentropy', \n",
    "              metrics=['accuracy'])\n"
   ]
  },
  {
   "cell_type": "code",
   "execution_count": 22,
   "metadata": {},
   "outputs": [
    {
     "name": "stdout",
     "output_type": "stream",
     "text": [
      "Epoch 1/10\n",
      "40/40 [==============================] - 3s 49ms/step - loss: 6.8038 - accuracy: 0.4986 - val_loss: 0.6931 - val_accuracy: 0.4940\n",
      "Epoch 2/10\n",
      "40/40 [==============================] - 1s 34ms/step - loss: 0.6996 - accuracy: 0.5016 - val_loss: 0.6932 - val_accuracy: 0.4938\n",
      "Epoch 3/10\n",
      "40/40 [==============================] - 2s 54ms/step - loss: 0.6957 - accuracy: 0.5016 - val_loss: 0.6929 - val_accuracy: 0.4938\n",
      "Epoch 4/10\n",
      "40/40 [==============================] - 2s 46ms/step - loss: 0.6937 - accuracy: 0.5017 - val_loss: 0.6930 - val_accuracy: 0.4938\n",
      "Epoch 5/10\n",
      "40/40 [==============================] - 2s 39ms/step - loss: 0.6928 - accuracy: 0.5017 - val_loss: 0.6930 - val_accuracy: 0.4938\n",
      "Epoch 6/10\n",
      "40/40 [==============================] - 2s 43ms/step - loss: 0.6925 - accuracy: 0.5019 - val_loss: 0.6929 - val_accuracy: 0.4938\n",
      "Epoch 7/10\n",
      "40/40 [==============================] - 1s 37ms/step - loss: 0.6924 - accuracy: 0.5021 - val_loss: 0.6929 - val_accuracy: 0.4938\n",
      "Epoch 8/10\n",
      "40/40 [==============================] - 1s 36ms/step - loss: 0.6923 - accuracy: 0.5020 - val_loss: 0.6929 - val_accuracy: 0.4938\n",
      "Epoch 9/10\n",
      "40/40 [==============================] - 1s 36ms/step - loss: 0.6923 - accuracy: 0.5020 - val_loss: 0.6930 - val_accuracy: 0.4936\n",
      "Epoch 10/10\n",
      "40/40 [==============================] - 1s 37ms/step - loss: 0.6923 - accuracy: 0.5021 - val_loss: 0.6930 - val_accuracy: 0.4936\n"
     ]
    }
   ],
   "source": [
    "# Train the model\n",
    "history = model.fit(train_data, train_labels, \n",
    "                    epochs=10, batch_size=512, \n",
    "                    validation_split=0.2)\n"
   ]
  },
  {
   "cell_type": "code",
   "execution_count": 23,
   "metadata": {},
   "outputs": [
    {
     "data": {
      "image/png": "[encoded data removed]",
      "text/plain": [
       "<Figure size 640x480 with 1 Axes>"
      ]
     },
     "metadata": {},
     "output_type": "display_data"
    }
   ],
   "source": [
    "# Plot the training and validation loss\n",
    "\n",
    "plt.plot(history.history['loss'], label='Training Loss')\n",
    "plt.plot(history.history['val_loss'], label='Validation Loss')\n",
    "plt.xlabel('Epoch')\n",
    "plt.ylabel('Loss')\n",
    "plt.legend()\n",
    "plt.show()\n",
    "\n"
   ]
  }
 ],
 "metadata": {
  "kernelspec": {
   "display_name": "Python 3",
   "language": "python",
   "name": "python3"
  },
  "language_info": {
   "codemirror_mode": {
    "name": "ipython",
    "version": 3
   },
   "file_extension": ".py",
   "mimetype": "text/x-python",
   "name": "python",
   "nbconvert_exporter": "python",
   "pygments_lexer": "ipython3",
   "version": "3.10.2"
  },
  "orig_nbformat": 4
 },
 "nbformat": 4,
 "nbformat_minor": 2
}
