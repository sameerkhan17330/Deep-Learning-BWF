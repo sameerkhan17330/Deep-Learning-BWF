{
 "cells": [
  {
   "attachments": {},
   "cell_type": "markdown",
   "metadata": {},
   "source": [
    "Task 25\n",
    "\n",
    "Overfitting example\n"
   ]
  },
  {
   "cell_type": "markdown",
   "metadata": {},
   "source": []
  },
  {
   "cell_type": "code",
   "execution_count": 1,
   "metadata": {},
   "outputs": [],
   "source": [
    "from tensorflow import keras\n",
    "from keras import layers\n",
    "from keras.datasets import imdb\n",
    "import matplotlib.pyplot as plt"
   ]
  },
  {
   "cell_type": "code",
   "execution_count": 2,
   "metadata": {},
   "outputs": [],
   "source": [
    "# Load the IMDB dataset\n",
    "(train_data, train_labels), (test_data, test_labels) = imdb.load_data(num_words=10000)"
   ]
  },
  {
   "cell_type": "code",
   "execution_count": 3,
   "metadata": {},
   "outputs": [],
   "source": [
    "# Pad the sequences to be the same length\n",
    "train_data = keras.preprocessing.sequence.pad_sequences(train_data, maxlen=10000)\n",
    "test_data = keras.preprocessing.sequence.pad_sequences(test_data, maxlen=10000)"
   ]
  },
  {
   "cell_type": "code",
   "execution_count": 4,
   "metadata": {},
   "outputs": [],
   "source": [
    "# Define the model\n",
    "model = keras.Sequential([\n",
    "    layers.Dense(16, activation='relu', input_shape=(10000,)),\n",
    "    layers.Dropout(0.5),\n",
    "    layers.Dense(16, activation='relu'),\n",
    "    layers.Dropout(0.5),\n",
    "    layers.Dense(1, activation='sigmoid')\n",
    "])"
   ]
  },
  {
   "cell_type": "code",
   "execution_count": 5,
   "metadata": {},
   "outputs": [],
   "source": [
    "# Compile the model\n",
    "model.compile(optimizer='adam', loss='binary_crossentropy', metrics=['accuracy'])"
   ]
  },
  {
   "cell_type": "code",
   "execution_count": 6,
   "metadata": {},
   "outputs": [
    {
     "name": "stdout",
     "output_type": "stream",
     "text": [
      "Epoch 1/20\n",
      "40/40 [==============================] - 7s 114ms/step - loss: 16.8878 - accuracy: 0.5010 - val_loss: 0.7115 - val_accuracy: 0.4928\n",
      "Epoch 2/20\n",
      "40/40 [==============================] - 1s 35ms/step - loss: 0.7271 - accuracy: 0.5013 - val_loss: 0.7024 - val_accuracy: 0.4932\n",
      "Epoch 3/20\n",
      "40/40 [==============================] - 1s 34ms/step - loss: 0.7014 - accuracy: 0.5017 - val_loss: 0.7010 - val_accuracy: 0.4932\n",
      "Epoch 4/20\n",
      "40/40 [==============================] - 1s 35ms/step - loss: 0.6997 - accuracy: 0.5014 - val_loss: 0.6999 - val_accuracy: 0.4932\n",
      "Epoch 5/20\n",
      "40/40 [==============================] - 1s 32ms/step - loss: 0.6985 - accuracy: 0.5020 - val_loss: 0.6996 - val_accuracy: 0.4936\n",
      "Epoch 6/20\n",
      "40/40 [==============================] - 1s 31ms/step - loss: 0.7039 - accuracy: 0.5019 - val_loss: 0.6994 - val_accuracy: 0.4936\n",
      "Epoch 7/20\n",
      "40/40 [==============================] - 1s 34ms/step - loss: 0.6953 - accuracy: 0.5019 - val_loss: 0.6991 - val_accuracy: 0.4934\n",
      "Epoch 8/20\n",
      "40/40 [==============================] - 1s 32ms/step - loss: 0.6955 - accuracy: 0.5020 - val_loss: 0.6988 - val_accuracy: 0.4936\n",
      "Epoch 9/20\n",
      "40/40 [==============================] - 1s 31ms/step - loss: 0.6935 - accuracy: 0.5021 - val_loss: 0.6987 - val_accuracy: 0.4936\n",
      "Epoch 10/20\n",
      "40/40 [==============================] - 1s 34ms/step - loss: 0.6939 - accuracy: 0.5022 - val_loss: 0.6988 - val_accuracy: 0.4936\n",
      "Epoch 11/20\n",
      "40/40 [==============================] - 1s 35ms/step - loss: 0.6937 - accuracy: 0.5019 - val_loss: 0.6987 - val_accuracy: 0.4936\n",
      "Epoch 12/20\n",
      "40/40 [==============================] - 2s 39ms/step - loss: 0.6945 - accuracy: 0.5016 - val_loss: 0.6985 - val_accuracy: 0.4936\n",
      "Epoch 13/20\n",
      "40/40 [==============================] - 1s 31ms/step - loss: 0.6930 - accuracy: 0.5018 - val_loss: 0.6984 - val_accuracy: 0.4936\n",
      "Epoch 14/20\n",
      "40/40 [==============================] - 1s 34ms/step - loss: 0.6957 - accuracy: 0.5020 - val_loss: 0.6984 - val_accuracy: 0.4936\n",
      "Epoch 15/20\n",
      "40/40 [==============================] - 1s 31ms/step - loss: 0.6930 - accuracy: 0.5016 - val_loss: 0.6984 - val_accuracy: 0.4936\n",
      "Epoch 16/20\n",
      "40/40 [==============================] - 1s 32ms/step - loss: 0.6930 - accuracy: 0.5020 - val_loss: 0.6984 - val_accuracy: 0.4936\n",
      "Epoch 17/20\n",
      "40/40 [==============================] - 1s 33ms/step - loss: 0.6930 - accuracy: 0.5020 - val_loss: 0.6984 - val_accuracy: 0.4936\n",
      "Epoch 18/20\n",
      "40/40 [==============================] - 1s 33ms/step - loss: 0.6935 - accuracy: 0.5020 - val_loss: 0.6984 - val_accuracy: 0.4936\n",
      "Epoch 19/20\n",
      "40/40 [==============================] - 1s 34ms/step - loss: 0.6928 - accuracy: 0.5021 - val_loss: 0.6985 - val_accuracy: 0.4936\n",
      "Epoch 20/20\n",
      "40/40 [==============================] - 1s 34ms/step - loss: 0.6929 - accuracy: 0.5020 - val_loss: 0.6985 - val_accuracy: 0.4936\n"
     ]
    }
   ],
   "source": [
    "# Train the model\n",
    "history = model.fit(train_data, train_labels, epochs=20, batch_size=512, validation_split=0.2)"
   ]
  },
  {
   "cell_type": "code",
   "execution_count": 7,
   "metadata": {},
   "outputs": [
    {
     "data": {
      "image/png": "[encoded data removed]",
      "text/plain": [
       "<Figure size 640x480 with 1 Axes>"
      ]
     },
     "metadata": {},
     "output_type": "display_data"
    }
   ],
   "source": [
    "# Plot the training and validation loss\n",
    "plt.plot(history.history['loss'], label='Training Loss')\n",
    "plt.plot(history.history['val_loss'], label='Validation Loss')\n",
    "plt.xlabel('Epoch')\n",
    "plt.ylabel('Loss')\n",
    "plt.legend()\n",
    "plt.show()"
   ]
  }
 ],
 "metadata": {
  "kernelspec": {
   "display_name": "Python 3",
   "language": "python",
   "name": "python3"
  },
  "language_info": {
   "codemirror_mode": {
    "name": "ipython",
    "version": 3
   },
   "file_extension": ".py",
   "mimetype": "text/x-python",
   "name": "python",
   "nbconvert_exporter": "python",
   "pygments_lexer": "ipython3",
   "version": "3.10.2"
  },
  "orig_nbformat": 4
 },
 "nbformat": 4,
 "nbformat_minor": 2
}
