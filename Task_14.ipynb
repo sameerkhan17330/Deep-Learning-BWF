{
 "cells": [
  {
   "cell_type": "code",
   "execution_count": null,
   "metadata": {},
   "outputs": [],
   "source": [
    "# -----------------------------------  Loading Data with Pandas,  ------------------------"
   ]
  },
  {
   "cell_type": "code",
   "execution_count": null,
   "metadata": {},
   "outputs": [],
   "source": [
    "#                                          CSV FILES"
   ]
  },
  {
   "cell_type": "code",
   "execution_count": null,
   "metadata": {},
   "outputs": [],
   "source": [
    "import pandas as pd\n",
    "\n",
    "sam = pd.read_csv('files/data.csv')\n",
    "print(sam)\n",
    "\n",
    "sam = pd.read_csv('files/data.csv', header=None)\n",
    "print(sam)\n",
    "\n",
    "sam = pd.read_csv('files/data.csv', names= ['one', 'two', 'three', 'four',])\n",
    "print(sam)\n",
    "\n"
   ]
  },
  {
   "cell_type": "code",
   "execution_count": null,
   "metadata": {},
   "outputs": [],
   "source": [
    "print(pd.isnull(sam))\n",
    "\n",
    "result = pd.read_csv('files/data.csv', na_values=['NULL'])\n",
    "print(result)\n"
   ]
  },
  {
   "cell_type": "code",
   "execution_count": null,
   "metadata": {},
   "outputs": [],
   "source": [
    "#                                            JSON FILES"
   ]
  },
  {
   "cell_type": "code",
   "execution_count": null,
   "metadata": {},
   "outputs": [],
   "source": [
    "obj = \"\"\"\n",
    "{\"name\": \"Wes\",\n",
    " \"places_lived\": [\"United States\", \"Spain\", \"Germany\"],\n",
    " \"pet\": null,\n",
    " \"siblings\": [{\"name\": \"Scott\", \"age\": 30, \"pets\": [\"Zeus\", \"Zuko\"]},\n",
    " {\"name\": \"Katie\", \"age\": 38,\n",
    " \"pets\": [\"Sixes\", \"Stache\", \"Cisco\"]}]\n",
    "}\n",
    "\"\"\"\n",
    "import json\n",
    "result = json.loads(obj)\n",
    "print(result)\n",
    "asjson = json.dumps(result)\n",
    "print(asjson)\n",
    "\n",
    "panda_format = pd.DataFrame(result['siblings'], columns= ['name', 'age'])\n",
    "print(panda_format)\n"
   ]
  },
  {
   "cell_type": "code",
   "execution_count": null,
   "metadata": {},
   "outputs": [],
   "source": [
    "data = pd.read_json('files/empty_null.json')\n",
    "print(data)\n",
    "print(data.to_json())\n",
    "print(data.to_json(orient='records'))\n"
   ]
  },
  {
   "cell_type": "code",
   "execution_count": null,
   "metadata": {},
   "outputs": [],
   "source": [
    "#         -------------------   Reading Microsoft Excel Files  ----------------------------"
   ]
  },
  {
   "cell_type": "code",
   "execution_count": null,
   "metadata": {},
   "outputs": [],
   "source": [
    "xlsx = pd.ExcelFile('files/sam.xlsx')\n",
    "print(xlsx)\n",
    "print(pd.read_excel(xlsx, 'Sheet1'))"
   ]
  },
  {
   "cell_type": "code",
   "execution_count": null,
   "metadata": {},
   "outputs": [],
   "source": [
    "#          --------------    Interacting with Databases  ----------------"
   ]
  },
  {
   "cell_type": "code",
   "execution_count": null,
   "metadata": {},
   "outputs": [],
   "source": [
    "import sqlite3\n",
    "query = \"\"\"\n",
    "CREATE TABLE test\n",
    "188 | Chapter 6: Data Loading, Storage, and File Formats\n",
    "(a VARCHAR(20), b VARCHAR(20),\n",
    "c REAL, d INTEGER);\"\"\"\n",
    "con = sqlite3.connect('mydata.sqlite')\n",
    "con.commit()\n",
    "data = [('Atlanta', 'Georgia', 1.25, 6),\n",
    "('Tallahassee', 'Florida', 2.6, 3),\n",
    "('Sacramento', 'California', 1.7, 5)]\n",
    "stmt = \"INSERT INTO test VALUES(?, ?, ?, ?)\"\n",
    "con.commit()\n",
    "cursor = con.execute('select * from test')\n",
    "rows = cursor.fetchall()\n",
    "print(rows)\n",
    "pd.DataFrame(rows, columns=[x[0] for x in cursor.description])\n"
   ]
  }
 ],
 "metadata": {
  "kernelspec": {
   "display_name": "Python 3",
   "language": "python",
   "name": "python3"
  },
  "language_info": {
   "codemirror_mode": {
    "name": "ipython",
    "version": 3
   },
   "file_extension": ".py",
   "mimetype": "text/x-python",
   "name": "python",
   "nbconvert_exporter": "python",
   "pygments_lexer": "ipython3",
   "version": "3.10.2"
  },
  "orig_nbformat": 4
 },
 "nbformat": 4,
 "nbformat_minor": 2
}
