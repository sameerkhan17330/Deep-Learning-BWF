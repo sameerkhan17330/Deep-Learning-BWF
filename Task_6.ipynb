{
  "nbformat": 4,
  "nbformat_minor": 0,
  "metadata": {
    "colab": {
      "provenance": [],
      "authorship_tag": "ABX9TyOdKnba55lG1R8h92bDjgUW",
      "include_colab_link": true
    },
    "kernelspec": {
      "name": "python3",
      "display_name": "Python 3"
    },
    "language_info": {
      "name": "python"
    }
  },
  "cells": [
    {
      "cell_type": "markdown",
      "metadata": {
        "id": "view-in-github",
        "colab_type": "text"
      },
      "source": [
        "<a href=\"https://colab.research.google.com/github/sameerkhan17330/Deep-Learning-BWF/blob/main/Task_6.ipynb\" target=\"_parent\"><img src=\"https://colab.research.google.com/assets/colab-badge.svg\" alt=\"Open In Colab\"/></a>"
      ]
    },
    {
      "cell_type": "code",
      "execution_count": null,
      "metadata": {
        "id": "-wXAqRwOmsq6"
      },
      "outputs": [],
      "source": [
        "#         -------------------  chapter  6  ----------------------\n",
        "#                             Dictionaries"
      ]
    },
    {
      "cell_type": "code",
      "source": [
        "#  6-1. Person: Use a dictionary to store information about a person you know.\n",
        "\n",
        "data = {'first_name':'John', 'last_name':'markeny', 'city':'new york', 'age':50}\n",
        "print(data)\n",
        "print(\"Name of person is {} {}\".format(data['first_name'], data['last_name']))\n",
        "print(\"He is \"+str(data['age'])+ \" years old\")\n",
        "print(\"and he lives in \"+data['city'])\n",
        "\n",
        "#  6-2. Favorite Numbers: Use a dictionary to store people’s favorite numbers.\n",
        "# Think of five names, and use them as keys in your dictionary.\n",
        "\n",
        "fav_num = {'john':5 , 'mark':6, 'albert':7, 'dany':8, 'sam':10}\n",
        "for key,value in fav_num.items():\n",
        "  print(\"{}'s favorite number is {}\".format(key,value))\n",
        "\n",
        "#  6-3. Think of five programming words you’ve learned about in the previous  chapters. \n",
        "\n",
        "python_words = {'del': 'to delete values', 'if':'for comparsion', 'range':'interval of values'}\n",
        "for k,v in python_words.items():\n",
        "  print(k+\" : \"+v)\n",
        "\n"
      ],
      "metadata": {
        "id": "ZYyBw4wiplZb"
      },
      "execution_count": null,
      "outputs": []
    },
    {
      "cell_type": "code",
      "source": [
        "#   6-4. Glossary 2: Now that you know how to loop through a dictionary, cleanp the code from Exercise 6-3\n",
        "\n",
        "python_words = {'del': 'to delete values', 'if':'for comparsion', 'range':'interval of values'}\n",
        "for k,v in python_words.items():\n",
        "  print(k+\" : \"+v)\n",
        "\n",
        "#  6-5. Rivers: Make a dictionary containing three major rivers and the country  each river runs through.\n",
        "\n",
        "rivers = {'nile': 'egypt', 'yangtze': 'china', 'amazon':'america'}\n",
        "for k,v in rivers.items():\n",
        "  print(\"The {} runs through {}.\".format(k,v))\n",
        "\n",
        "for k,v in rivers.items():\n",
        "  print(k)\n",
        "\n",
        "for k,v in rivers.items():\n",
        "  print(v)\n",
        "\n",
        "#  6-6. Polling: Use the code in favorite_languages.py\n",
        "\n",
        "favorite_languages = {'jen': 'python','sarah': 'c','edward': 'ruby','phil': 'python',}\n",
        "poll_list = ['jen','sarah', 'sam', 'john']\n",
        "for i in poll_list:\n",
        "  if i in [k for k,v in favorite_languages.items()]:\n",
        "    print(\"Mr.{}, thanks for responding.\".format(i))\n",
        "  else:\n",
        "    print(\"Hello MR.{}, You are invited to take the poll\".format(i))"
      ],
      "metadata": {
        "id": "KmVSTrzEu4yy"
      },
      "execution_count": null,
      "outputs": []
    },
    {
      "cell_type": "code",
      "source": [
        "#  6-7. People: Make two new dictionaries representing different people, and store all three dictionaries in a list called people\n",
        "\n",
        "data_2 = {'first_name':'John', 'last_name':'markeny', 'city':'new york', 'age':50}\n",
        "data_3 = {'first_name':'bold', 'last_name':'ain', 'city':'london', 'age':20}\n",
        "data_4 = {'first_name':'cold', 'last_name':'jol', 'city':'manchester', 'age':22}\n",
        "people = [data_2,data_3,data_4]\n",
        "for info in people:\n",
        "  for k,v in info.items():\n",
        "    print(k+\" : \"+str(v))\n",
        "\n",
        "#  6-8. Pets: Make several dictionaries, where the name of each dictionary is the name of a pet.\n",
        "\n",
        "tommy = {'dog': 'adward'}\n",
        "cutie = {'cat': 'jenifer'}\n",
        "tingo = {'tiger': 'sam'}\n",
        "pets = [tommy,cutie, tingo]\n",
        "for i in pets:\n",
        "  for k,v in i.items():\n",
        "   print(\"the type of aminal is: {} and owner name is {}\".format(k,v))\n",
        "\n",
        "#  6-9. Favorite Places: Make a dictionary called favorite_places. T\n",
        "\n",
        "favorite_places = {'john': 'maldeves', 'mark': 'los angelos', 'sam':'new york'}\n",
        "for k,v in favorite_places.items():\n",
        "  print(\"{} likes to visit {} some day!\".format(k,v))\n",
        "\n",
        "#  6-10. Favorite Numbers:Modify your program so each person can have more than one favorite number. T\n",
        "\n",
        "fav_num_2 = {'john':[5,11,15] , 'mark':[6,12,18], 'albert':[7,14,21], 'dany':[8,16,24], 'sam':[10,7,5]}\n",
        "for k,v in fav_num_2.items():\n",
        "  print(\"{}'s favorite numbers are: {}\".format(k,v))\n",
        "\n",
        "#  6-11. Cities: Make a dictionary called cities. Use the names of three cities as keys in your dictionary.\n",
        "\n",
        "cities = {'karachi':{'country': 'pakistan','population':'2000000', 'fact':'biggest city of the world'}, 'mumbai':{'country': 'india','population':'500000', 'fact':'have many monuments'}, 'california':{'country':'america','population':'150000', 'fact':'one of the beautiful cities of the world'}}\n",
        "for k,v in cities.items():\n",
        "  country = v['country']\n",
        "  population = v['population']\n",
        "  fact = v['fact']\n",
        "  print(\"{} is situated in {}, whose populatioin is {}\\n Fact about the city is {}\".format(k,country,population,fact))\n",
        "\n",
        "\n",
        "  \n",
        "\n"
      ],
      "metadata": {
        "colab": {
          "base_uri": "https://localhost:8080/"
        },
        "id": "jZi2QSRh0P-i",
        "outputId": "eaaf6d5c-acc9-47da-afd7-db255588df7f"
      },
      "execution_count": 41,
      "outputs": [
        {
          "output_type": "stream",
          "name": "stdout",
          "text": [
            "first_name : John\n",
            "last_name : markeny\n",
            "city : new york\n",
            "age : 50\n",
            "first_name : bold\n",
            "last_name : ain\n",
            "city : london\n",
            "age : 20\n",
            "first_name : cold\n",
            "last_name : jol\n",
            "city : manchester\n",
            "age : 22\n",
            "the type of aminal is: dog and owner name is adward\n",
            "the type of aminal is: cat and owner name is jenifer\n",
            "the type of aminal is: tiger and owner name is sam\n",
            "john likes to visit maldeves some day!\n",
            "mark likes to visit los angelos some day!\n",
            "sam likes to visit new york some day!\n",
            "john's favorite numbers are: [5, 11, 15]\n",
            "mark's favorite numbers are: [6, 12, 18]\n",
            "albert's favorite numbers are: [7, 14, 21]\n",
            "dany's favorite numbers are: [8, 16, 24]\n",
            "sam's favorite numbers are: [10, 7, 5]\n",
            "karachi is situated in pakistan, whose populatioin is 2000000\n",
            " Fact about the city is biggest city of the world\n",
            "mumbai is situated in india, whose populatioin is 500000\n",
            " Fact about the city is have many monuments\n",
            "california is situated in america, whose populatioin is 150000\n",
            " Fact about the city is one of the beautiful cities of the world\n"
          ]
        }
      ]
    },
    {
      "cell_type": "code",
      "source": [],
      "metadata": {
        "id": "E18gQfCF7loe"
      },
      "execution_count": null,
      "outputs": []
    },
    {
      "cell_type": "code",
      "source": [],
      "metadata": {
        "id": "jsaeLnV42YCl"
      },
      "execution_count": null,
      "outputs": []
    }
  ]
}