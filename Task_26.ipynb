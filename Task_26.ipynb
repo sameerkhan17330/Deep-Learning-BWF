{
 "cells": [
  {
   "attachments": {},
   "cell_type": "markdown",
   "metadata": {},
   "source": [
    "Task 26"
   ]
  },
  {
   "attachments": {},
   "cell_type": "markdown",
   "metadata": {},
   "source": [
    "Using different optimizers, last-layers, loss function,\n",
    " and evaluation matrices and finding the \n",
    "difference between them\n"
   ]
  },
  {
   "cell_type": "code",
   "execution_count": 20,
   "metadata": {},
   "outputs": [],
   "source": [
    "import tensorflow as tf\n",
    "from tensorflow import keras\n",
    "from keras import layers"
   ]
  },
  {
   "cell_type": "code",
   "execution_count": 21,
   "metadata": {},
   "outputs": [],
   "source": [
    "# Load the dataset\n",
    "(X_train, y_train), (X_test, y_test) = keras.datasets.mnist.load_data()\n",
    "\n",
    "# Preprocess the data\n",
    "X_train = X_train.reshape(-1, 28*28).astype(\"float32\") / 255.0\n",
    "X_test = X_test.reshape(-1, 28*28).astype(\"float32\") / 255.0"
   ]
  },
  {
   "cell_type": "code",
   "execution_count": 22,
   "metadata": {},
   "outputs": [],
   "source": [
    "# Load the dataset\n",
    "(X_train, y_train), (X_test, y_test) = keras.datasets.mnist.load_data()\n",
    "\n",
    "# Preprocess the data\n",
    "X_train = X_train.reshape(-1, 28*28).astype(\"float32\") / 255.0\n",
    "X_test = X_test.reshape(-1, 28*28).astype(\"float32\") / 255.0"
   ]
  },
  {
   "cell_type": "code",
   "execution_count": 23,
   "metadata": {},
   "outputs": [],
   "source": [
    "# Define the model\n",
    "model = keras.Sequential([\n",
    "    layers.Dense(64, activation=\"relu\"),\n",
    "    layers.Dense(10, activation=\"softmax\")\n",
    "])"
   ]
  },
  {
   "cell_type": "code",
   "execution_count": 24,
   "metadata": {},
   "outputs": [],
   "source": [
    "# Define different optimizers\n",
    "optimizers = {\n",
    "    \"SGD\": keras.optimizers.SGD(learning_rate=0.01),\n",
    "    \"Adam\": keras.optimizers.Adam(learning_rate=0.001),\n",
    "    \"RMSprop\": keras.optimizers.RMSprop(learning_rate=0.001),\n",
    "}"
   ]
  },
  {
   "cell_type": "code",
   "execution_count": 25,
   "metadata": {},
   "outputs": [],
   "source": [
    "# Define different loss functions\n",
    "loss_functions = {\n",
    "    \"SparseCategoricalCrossentropy\": keras.losses.SparseCategoricalCrossentropy(),\n",
    "    \"BinaryCrossentropy\": keras.losses.BinaryCrossentropy(),\n",
    "    \"MeanSquaredError\": keras.losses.MeanSquaredError(),\n",
    "}\n"
   ]
  },
  {
   "cell_type": "code",
   "execution_count": 26,
   "metadata": {},
   "outputs": [],
   "source": [
    "# Define different last layer activations\n",
    "last_layer_activations = {\n",
    "    \"Softmax\": \"softmax\",\n",
    "    \"Sigmoid\": \"sigmoid\",\n",
    "    \"Linear\": None,\n",
    "}"
   ]
  },
  {
   "cell_type": "code",
   "execution_count": 27,
   "metadata": {},
   "outputs": [],
   "source": [
    "# Define different evaluation metrics\n",
    "evaluation_metrics = {\n",
    "    \"Accuracy\": keras.metrics.SparseCategoricalAccuracy(),\n",
    "    \"Precision\": keras.metrics.Precision(),\n",
    "    \"Recall\": keras.metrics.Recall(),\n",
    "}"
   ]
  },
  {
   "cell_type": "code",
   "execution_count": 28,
   "metadata": {},
   "outputs": [
    {
     "name": "stdout",
     "output_type": "stream",
     "text": [
      "313/313 [==============================] - 1s 2ms/step - loss: 0.1923 - accuracy: 0.9452\n",
      "Optimizer: SGD\n",
      "Test Loss: 0.1923\n",
      "Test Accuracy: 0.9452\n",
      "--------------------------------------------------\n",
      "313/313 [==============================] - 1s 2ms/step - loss: 0.0870 - accuracy: 0.9741\n",
      "Optimizer: Adam\n",
      "Test Loss: 0.0870\n",
      "Test Accuracy: 0.9741\n",
      "--------------------------------------------------\n",
      "313/313 [==============================] - 1s 2ms/step - loss: 0.0991 - accuracy: 0.9710\n",
      "Optimizer: RMSprop\n",
      "Test Loss: 0.0991\n",
      "Test Accuracy: 0.9710\n",
      "--------------------------------------------------\n"
     ]
    }
   ],
   "source": [
    "# Test different optimizers\n",
    "for optimizer_name, optimizer in optimizers.items():\n",
    "    # Define the model\n",
    "    model = keras.Sequential([\n",
    "        layers.Dense(64, activation=\"relu\"),\n",
    "        layers.Dense(10, activation=\"softmax\")\n",
    "    ])\n",
    "\n",
    "    # Compile the model with the current optimizer\n",
    "    model.compile(optimizer=optimizer, loss=\"sparse_categorical_crossentropy\", metrics=[\"accuracy\"])\n",
    "\n",
    "    # Train the model\n",
    "    model.fit(X_train, y_train, batch_size=32, epochs=10, validation_split=0.2, verbose=0)\n",
    "\n",
    "    # Evaluate the model\n",
    "    loss, accuracy = model.evaluate(X_test, y_test)\n",
    "    print(f\"Optimizer: {optimizer_name}\")\n",
    "    print(f\"Test Loss: {loss:.4f}\")\n",
    "    print(f\"Test Accuracy: {accuracy:.4f}\")\n",
    "    print(\"-\" * 50)\n",
    "\n",
    "\n",
    "\n",
    "\n"
   ]
  },
  {
   "cell_type": "code",
   "execution_count": 30,
   "metadata": {},
   "outputs": [
    {
     "name": "stdout",
     "output_type": "stream",
     "text": [
      "313/313 [==============================] - 1s 4ms/step - loss: 0.0896 - accuracy: 0.9735\n",
      "Last Layer Activation: Softmax\n",
      "Test Loss: 0.0896\n",
      "Test Accuracy: 0.9735\n",
      "--------------------------------------------------\n",
      "313/313 [==============================] - 1s 2ms/step - loss: 0.0904 - accuracy: 0.9731\n",
      "Last Layer Activation: Sigmoid\n",
      "Test Loss: 0.0904\n",
      "Test Accuracy: 0.9731\n",
      "--------------------------------------------------\n",
      "313/313 [==============================] - 1s 2ms/step - loss: 2.3024 - accuracy: 0.2745\n",
      "Last Layer Activation: Linear\n",
      "Test Loss: 2.3024\n",
      "Test Accuracy: 0.2745\n",
      "--------------------------------------------------\n"
     ]
    }
   ],
   "source": [
    "# Test different last layer activations\n",
    "for last_layer_activation_name, last_layer_activation in last_layer_activations.items():\n",
    "    # Define the model\n",
    "    model = keras.Sequential([\n",
    "        layers.Dense(64, activation=\"relu\"),\n",
    "        layers.Dense(10, activation=last_layer_activation)\n",
    "    ])\n",
    "\n",
    "    # Compile the model with the default optimizer and loss function\n",
    "    model.compile(optimizer=\"adam\", loss=\"sparse_categorical_crossentropy\", metrics=[\"accuracy\"])\n",
    "\n",
    "    # Train the model\n",
    "    model.fit(X_train, y_train, batch_size=32, epochs=10, validation_split=0.2, verbose=0)\n",
    "\n",
    "    # Evaluate the model\n",
    "    loss, accuracy = model.evaluate(X_test, y_test)\n",
    "    print(f\"Last Layer Activation: {last_layer_activation_name}\")\n",
    "    print(f\"Test Loss: {loss:.4f}\")\n",
    "    print(f\"Test Accuracy: {accuracy:.4f}\")\n",
    "    print(\"-\" * 50)\n"
   ]
  }
 ],
 "metadata": {
  "kernelspec": {
   "display_name": "Python 3",
   "language": "python",
   "name": "python3"
  },
  "language_info": {
   "codemirror_mode": {
    "name": "ipython",
    "version": 3
   },
   "file_extension": ".py",
   "mimetype": "text/x-python",
   "name": "python",
   "nbconvert_exporter": "python",
   "pygments_lexer": "ipython3",
   "version": "3.10.2"
  },
  "orig_nbformat": 4
 },
 "nbformat": 4,
 "nbformat_minor": 2
}
